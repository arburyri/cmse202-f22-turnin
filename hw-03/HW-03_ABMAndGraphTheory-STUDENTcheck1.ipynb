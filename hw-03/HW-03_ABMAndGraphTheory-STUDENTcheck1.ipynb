{
 "cells": [
  {
   "cell_type": "markdown",
   "metadata": {},
   "source": [
    "# Homework Assignment #3 (Individual)\n",
    "## Agent Based Modeling (ABM), and Graph Theory"
   ]
  },
  {
   "cell_type": "markdown",
   "metadata": {},
   "source": [
    "### <p style=\"text-align: right;\"> &#9989; Richard Arbury</p>\n",
    "### <p style=\"text-align: right;\"> &#9989; arburyri</p>"
   ]
  },
  {
   "cell_type": "markdown",
   "metadata": {
    "ExecuteTime": {
     "end_time": "2022-10-18T11:54:16.831524Z",
     "start_time": "2022-10-18T11:54:16.828005Z"
    }
   },
   "source": [
    "<img src= \"https://scottpjohnson.com/assets/img/disinfo-abm.png\" width = 600>"
   ]
  },
  {
   "cell_type": "markdown",
   "metadata": {},
   "source": [
    "### Goals for this homework assignment\n",
    "By the end of this assignment, you should be able to:\n",
    "* Use Git to create a repository, create a new branch, merge branches, track changes to the files within the repository, and push those changes to a remote repository.\n",
    "* Understand and implement agent objects.\n",
    "* Run agent based modeling.\n",
    "* Use your Pandas skills to load the adjacency matrix, understand the graph properties, and visualize it using Networkx.\n",
    "\n",
    "Work through the following assignment, making sure to follow all of the directions and answer all of the questions.\n",
    "\n",
    "There are **67 points** possible on this assignment. Point values for each part are included in the section headers and question prompts.\n",
    "\n",
    "**This assignment is due in roughly two weeks from now at 11:59 pm on Sunday, October 30.** It should be uploaded into the \"Homework Assignments\" submission folder for Homework #3.  Submission instructions can be found at the end of the notebook."
   ]
  },
  {
   "cell_type": "markdown",
   "metadata": {
    "ExecuteTime": {
     "end_time": "2022-10-18T11:50:15.383447Z",
     "start_time": "2022-10-18T11:50:15.377401Z"
    }
   },
   "source": [
    "------\n",
    "<a id=\"toc\"></a>\n",
    "\n",
    "## Table of contents\n",
    "\n",
    "0. [Part 0: Upgrade Packages](#part0) (1 point)\n",
    "\n",
    "1. [Part 1: Git](#gits) (13 points)\n",
    "\n",
    "2. [Part 2: ABM](#part2) (22 points)\n",
    "\n",
    "3. [Part 3: A Network of Thrones](#part3) (28 points)\n",
    "\n",
    "4. [Part 4: Finishing](#conclusion) (3 points)"
   ]
  },
  {
   "cell_type": "code",
   "execution_count": 1,
   "metadata": {
    "ExecuteTime": {
     "end_time": "2022-10-18T11:52:03.701120Z",
     "start_time": "2022-10-18T11:52:03.698350Z"
    }
   },
   "outputs": [
    {
     "name": "stdout",
     "output_type": "stream",
     "text": [
      "The total grade for this assignment is 67\n"
     ]
    }
   ],
   "source": [
    "grades = [1, 13, 22, 28, 3]\n",
    "\n",
    "print(f\"The total grade for this assignment is {sum(grades)}\" )"
   ]
  },
  {
   "cell_type": "markdown",
   "metadata": {},
   "source": [
    "---\n",
    "<a id=\"part0\"></a>\n",
    "[Back to ToC](#toc)\n",
    "\n",
    "# Part 0: Upgrade Packages\n",
    "\n",
    "**&#9989; Question 0.1 (1 point)**: Run the cell below. Do you have the correct packages ? If not upgrade them. **You must do this in order to avoid issues in the rest of the notebook.**"
   ]
  },
  {
   "cell_type": "code",
   "execution_count": 2,
   "metadata": {
    "ExecuteTime": {
     "end_time": "2022-10-18T11:45:18.406558Z",
     "start_time": "2022-10-18T11:45:16.336557Z"
    }
   },
   "outputs": [
    {
     "name": "stdout",
     "output_type": "stream",
     "text": [
      "Using matplotlib backend: agg\n",
      "Populating the interactive namespace from numpy and matplotlib\n"
     ]
    },
    {
     "name": "stderr",
     "output_type": "stream",
     "text": [
      "/opt/anaconda3/lib/python3.8/site-packages/scipy/__init__.py:138: UserWarning: A NumPy version >=1.16.5 and <1.23.0 is required for this version of SciPy (detected version 1.23.3)\n",
      "  warnings.warn(f\"A NumPy version >={np_minversion} and <{np_maxversion} is required for this version of \"\n"
     ]
    },
    {
     "name": "stdout",
     "output_type": "stream",
     "text": [
      "Numpy version is 1.23.3 while it should be 1.23.4\n",
      "Scipy version is 1.6.2 while it should be 1.9.2\n",
      "Pandas version is 1.2.4 while it should be 1.5.0\n",
      "Networkx version is 2.5 while it should be 2.8.7\n"
     ]
    }
   ],
   "source": [
    "%pylab\n",
    "%matplotlib inline\n",
    "\n",
    "import scipy as scp\n",
    "import seaborn as sns\n",
    "\n",
    "sns.set_context(\"notebook\")\n",
    "\n",
    "import pandas as pd\n",
    "import networkx as nx\n",
    "\n",
    "\n",
    "print(f\"Numpy version is {np.__version__} while it should be 1.23.4\")\n",
    "print(f\"Scipy version is {scp.__version__} while it should be 1.9.2\")\n",
    "print(f\"Pandas version is {pd.__version__} while it should be 1.5.0\")\n",
    "print(f\"Networkx version is {nx.__version__} while it should be 2.8.7\")\n",
    "\n",
    "      "
   ]
  },
  {
   "cell_type": "markdown",
   "metadata": {},
   "source": [
    "---\n",
    "<a id=\"gits\"></a>\n",
    "[Back to ToC](#toc)\n",
    "\n",
    "# Part 1: Git (13 points)\n",
    "\n",
    "For this assignment, you're going to add it to the `cmse202-f22-turnin` repository you created in class so that you can track your progress on the assignment and preserve the final version that you turn in. In order to do this you need to\n",
    "\n",
    "**&#9989; Question 1.1 (1 point)**: Navigate to your `cmse202-f22-turnin` **local** repository and create a new directory called `hw-03` and copy this notebook in that new directory.\n",
    "\n"
   ]
  },
  {
   "cell_type": "markdown",
   "metadata": {
    "ExecuteTime": {
     "end_time": "2022-10-17T20:39:14.921268Z",
     "start_time": "2022-10-17T20:39:14.918076Z"
    }
   },
   "source": [
    "mkdir hw-03"
   ]
  },
  {
   "cell_type": "markdown",
   "metadata": {},
   "source": [
    "&#9989; **Question 1.2 (1 point)**: Before you move on, put the command that your instructor should run to pull changes from  your repository in the markdown cell below."
   ]
  },
  {
   "cell_type": "markdown",
   "metadata": {},
   "source": [
    "git log"
   ]
  },
  {
   "cell_type": "markdown",
   "metadata": {},
   "source": [
    "&#9989; **Question 1.3 (2 points)**: Before you move on, create a new branch called `hw03_branch` and move into it. In the cell below put the command(s) to create a new branch and to checkout the new branch. (_Note_: your TA will be able to see if you have created the branch and its history)."
   ]
  },
  {
   "cell_type": "markdown",
   "metadata": {},
   "source": [
    "``` bash\n",
    "# Put the command(s) for creating and checking your new branch here!\n",
    "\n",
    "```"
   ]
  },
  {
   "cell_type": "markdown",
   "metadata": {},
   "source": [
    "&#9989; **Question 1.4 (3 points)** Check the status of your local `git`.\n",
    "\n",
    "``` bash \n",
    "git status\n",
    "\n",
    "```\n",
    "Your branch is up to date\n",
    "\n",
    "``` bash\n",
    "git branch hw03_branch\n",
    "\n",
    "git checkout hw03_branch\n",
    "```\n",
    "\n",
    "hw03_branch\n",
    "\n",
    "``` bash\n",
    "git branch ##to check branch\n",
    "```\n",
    "\n",
    "**Important:** If you are still in the `main` branch you must switch to the new branch. "
   ]
  },
  {
   "cell_type": "markdown",
   "metadata": {},
   "source": [
    "``` bash\n",
    "git checkout hw03_branch\n",
    "```"
   ]
  },
  {
   "cell_type": "markdown",
   "metadata": {},
   "source": [
    "&#9989; **Question 1.5 (3 points):**\n",
    "Add your name and GitHub username to the top of the notebook, then add and commit **ONLY** the notebook.\n",
    "\n",
    "``` bash\n",
    "# Put the command(s) to add and commit here \n",
    "```\n",
    "\n",
    "What is the commit message you used ?\n",
    "\n",
    "``` bash\n",
    "# Answer the question here\n",
    "```"
   ]
  },
  {
   "cell_type": "markdown",
   "metadata": {},
   "source": [
    "``` bash\n",
    "# Put the command you used to check the status of your repository here.\n",
    "```"
   ]
  },
  {
   "cell_type": "markdown",
   "metadata": {},
   "source": [
    "&#9989; **Question 1.6 (1 point):** Before moving on. Check that the notebook you are working on is the correct one. Run the following cell. **Are you in the new folder you just created?** If not close this notebook and open the one in the `hw-03` folder\n"
   ]
  },
  {
   "cell_type": "code",
   "execution_count": null,
   "metadata": {},
   "outputs": [],
   "source": [
    "!pwd"
   ]
  },
  {
   "cell_type": "markdown",
   "metadata": {},
   "source": [
    "&#9989; **Question 1.7 (1 point):** Finally push the updated notebook to GitHub.\n",
    "\n",
    "``` bash\n",
    "# Put the command you used to push to GitHub here.\n",
    "```\n"
   ]
  },
  {
   "cell_type": "markdown",
   "metadata": {},
   "source": [
    "**Important**: Double check you've added your Professor and your TA as collaborators to your \"turnin\" repository (you should have done this in the previous homework assignment).\n",
    "\n",
    "**Also important**: Make sure that the version of this notebook that you are working on is the same one that you just added to your repository! If you are working on a different copy of the notebook, **none of your changes will be tracked**!\n",
    "\n",
    "If everything went as intended, the file should now show up on your GitHub account in the \"`cmse202-f22-turnin`\" repository inside the `hw-03` directory that you just created within the new branch `hw03-branch`.\n",
    "\n",
    "Periodically, **you'll be asked to commit your changes to the repository and push them to the remote GitHub location**. Of course, you can always commit your changes more often than that, if you wish.  It can be good to get into a habit of committing your changes any time you make a significant modification, or when you stop working on the project for a bit.\n"
   ]
  },
  {
   "cell_type": "markdown",
   "metadata": {},
   "source": [
    "### &#128721; STOP\n",
    "**Pause to commit your changes to your Git repository! (1 point)**\n",
    "\n",
    "Take a moment to save your notebook, commit the changes to your Git repository using the commit message \"Committing Part 1\", and push the changes to GitHub.\n"
   ]
  },
  {
   "cell_type": "markdown",
   "metadata": {},
   "source": [
    "---\n",
    "<a id=\"part2\"></a>\n",
    "[Back to ToC](#toc)\n",
    "\n",
    "# Part 2: Analyzing an Agent-Based Model (22 points)\n",
    "\n",
    "For this problem, you will be working with an agent-based model that is based on a problem from Game Theory. The point is to find the best place to put grocery stores. A key assumption of our model is that **consumers will go to the grocery store that is closest to their home.** The  rules of the game are as follows:\n",
    "1. On a grid of size (x,y), create a set of randomly distributed homes. The probability that any grid point will have a home is proportional to the variable `population_density`, which is specified by the user (see the Forest Fire model from 201, where we used `f_trees_start` for the same purpose).\n",
    "1. Next, find the best place to put a grocery store. \n",
    "    - If this is the first grocery store in the area, place it in the location that has the smallest total distance from the houses in the area (I.e., minimize the sum of the distances between the grocery store and all of the houses).\n",
    "    - If there is already one or more grocery stores in the area, find the best location to put another store. The best place to put a store is the point where it is *the closest store to the largest number of houses.*\n",
    "\n"
   ]
  },
  {
   "cell_type": "markdown",
   "metadata": {},
   "source": [
    "### Part 2.1: Pre-Coding Questions\n",
    "\n",
    "&#9989; **Question 2.1.1 (1 point) Thinking about Programming Paradigms:** What type of programming paradigm do you think would make the most sense for solving this problem (Linear, Functional, or Object-Oriented)? Give an explanation for your answer.\n"
   ]
  },
  {
   "cell_type": "markdown",
   "metadata": {
    "ExecuteTime": {
     "end_time": "2022-10-17T20:14:20.645485Z",
     "start_time": "2022-10-17T20:14:20.642397Z"
    }
   },
   "source": [
    "*Write your response here*"
   ]
  },
  {
   "cell_type": "markdown",
   "metadata": {},
   "source": [
    "&#9989; **Question 2.1.2 (1 point) Making Predictions:** What do you think will be the best place to put the first grocery store? What about a second store? Provide an explanation."
   ]
  },
  {
   "cell_type": "markdown",
   "metadata": {},
   "source": [
    "*Write your response here*"
   ]
  },
  {
   "cell_type": "markdown",
   "metadata": {},
   "source": [
    "### Part 2.2: Modeling with Code\n",
    "\n",
    "&#9989; **Question 2.2.1 (1 point) Getting the Code:**\n",
    "We are providing you with code that models this game. Download the code here. Write the commands you used to download the code in the cell below. \n",
    "\n",
    "`https://raw.githubusercontent.com/msu-cmse-courses/cmse202-F22-data/main/HW/Homework_3/store_placement.py`\n"
   ]
  },
  {
   "cell_type": "code",
   "execution_count": null,
   "metadata": {
    "ExecuteTime": {
     "end_time": "2022-10-17T20:44:51.478431Z",
     "start_time": "2022-10-17T20:44:51.476144Z"
    }
   },
   "outputs": [],
   "source": [
    "# Put the command to download the dataset here\n"
   ]
  },
  {
   "cell_type": "markdown",
   "metadata": {},
   "source": [
    "&#9989; **Question 2.2.2 (1 point) Coding Paradigm:** What programming paradigm does this code use?"
   ]
  },
  {
   "cell_type": "markdown",
   "metadata": {},
   "source": [
    "*Write your answer here*"
   ]
  },
  {
   "cell_type": "markdown",
   "metadata": {},
   "source": [
    "&#9989; **Question 2.2.3 (3 points) Documenting the Code:**\n",
    "In the cell below, *copy and paste the code from the file you just downloaded. Write doc strings for all of the functions in the code.*"
   ]
  },
  {
   "cell_type": "code",
   "execution_count": null,
   "metadata": {
    "ExecuteTime": {
     "end_time": "2022-10-17T20:44:52.871002Z",
     "start_time": "2022-10-17T20:44:52.869066Z"
    }
   },
   "outputs": [],
   "source": [
    "# Copy the code here and add your docstrings"
   ]
  },
  {
   "cell_type": "markdown",
   "metadata": {},
   "source": [
    "&#9989; **Question 2.2.4 (3 points) See the Agent? See the Model?:**\n",
    "Most agent-based models have three things: agents, actions, and an environment. Agents take actions–usually based on the environment and/or other agents–that affect the environment. Who are the agents in this model? What action(s) can they take? What is the environment? "
   ]
  },
  {
   "cell_type": "markdown",
   "metadata": {},
   "source": [
    "*Write your response here*"
   ]
  },
  {
   "cell_type": "markdown",
   "metadata": {},
   "source": [
    "&#9989; **Question 2.2.5 (4 points) Testing the Code: One Store**\n",
    "In the cell below, use the provided code to find the best place to put a single store. Make sure to make a visualization showing the houses and the store. What is the best place to put the first store? How does the output of the model compare to the prediction you made in question 2.1?"
   ]
  },
  {
   "cell_type": "code",
   "execution_count": null,
   "metadata": {
    "ExecuteTime": {
     "end_time": "2022-10-17T20:44:54.262205Z",
     "start_time": "2022-10-17T20:44:54.260077Z"
    }
   },
   "outputs": [],
   "source": [
    "# Write your code here"
   ]
  },
  {
   "cell_type": "markdown",
   "metadata": {},
   "source": [
    "&#9989; **Question 2.2.6 (1 point)** Answer the following question:\n",
    "\n",
    "- How does this compare to your prediction?"
   ]
  },
  {
   "cell_type": "markdown",
   "metadata": {},
   "source": [
    "&#9989; **Question 2.2.7 (4 points) Testing the Code: Two Stores**\n",
    "In the cell below, use the provided code to find the best place to put two stores. Make sure to make a visualization showing the houses and the store. What is the best place to put the next store? How does the output of the model compare to the prediction you made in question 2.1?"
   ]
  },
  {
   "cell_type": "code",
   "execution_count": null,
   "metadata": {
    "ExecuteTime": {
     "end_time": "2022-10-17T20:44:56.220370Z",
     "start_time": "2022-10-17T20:44:56.218280Z"
    }
   },
   "outputs": [],
   "source": [
    "# Write your code here"
   ]
  },
  {
   "cell_type": "markdown",
   "metadata": {
    "ExecuteTime": {
     "end_time": "2022-10-17T20:34:22.329122Z",
     "start_time": "2022-10-17T20:34:22.326246Z"
    }
   },
   "source": [
    "&#9989; **Question 2.2.8 (1 point)** Answer the followign question:\n",
    "\n",
    "- How does this compare to your prediction?"
   ]
  },
  {
   "cell_type": "markdown",
   "metadata": {},
   "source": [
    "### &#128721; STOP\n",
    "**Pause to commit your changes to your Git repository! (1 point)**\n",
    "\n",
    "Take a moment to save your notebook, commit the changes to your Git repository using the commit message \"Committing Part 2\", \n"
   ]
  },
  {
   "cell_type": "markdown",
   "metadata": {},
   "source": [
    "---\n",
    "<a id=\"part3\"></a>\n",
    "[Back to ToC](#toc)\n",
    "\n",
    "# Part 3: Graph Theory (28 points)\n",
    "\n",
    "Learning goals:\n",
    "\n",
    "- creating a network from data\n",
    "- do exploratory data analysis on the graph\n"
   ]
  },
  {
   "cell_type": "markdown",
   "metadata": {},
   "source": [
    "\n",
    "## Part 3.1: A Network of Thrones (9 points)\n",
    "\n",
    "In this part you will be working with graph in order to study a particular social network; the world of Westeros and Essos. This assignment is based on a publication in the Mathematical Association of America. Here is the [link](https://networkofthrones.wordpress.com/about/) of where everything is explained.\n",
    "\n",
    "<img src = \"https://images.squarespace-cdn.com/content/v1/5d3f5ab4e0b0f80001519db3/1626990700500-G54332NIRUZZ0G8XX8S0/8B05E165-D702-4DD5-8A90-5BABA9AAF8AE.jpeg?format=2500w\" width = 600>"
   ]
  },
  {
   "cell_type": "markdown",
   "metadata": {},
   "source": [
    "&#9989; **Question 3.1 (3 points)** To start we need the dataset. Download the edge list given in the link below and open it as a DataFrame with pandas and print the first 5 rows\n",
    "\n",
    "https://raw.githubusercontent.com/mathbeveridge/asoiaf/master/data/asoiaf-book1-edges.csv"
   ]
  },
  {
   "cell_type": "code",
   "execution_count": null,
   "metadata": {
    "ExecuteTime": {
     "end_time": "2022-10-17T20:45:31.635369Z",
     "start_time": "2022-10-17T20:45:31.632941Z"
    }
   },
   "outputs": [],
   "source": [
    "# Put the command to download the dataset here"
   ]
  },
  {
   "cell_type": "code",
   "execution_count": null,
   "metadata": {
    "ExecuteTime": {
     "end_time": "2022-10-17T18:51:53.792434Z",
     "start_time": "2022-10-17T18:51:53.790691Z"
    }
   },
   "outputs": [],
   "source": [
    "# Put the code to open the dataset"
   ]
  },
  {
   "cell_type": "markdown",
   "metadata": {},
   "source": [
    "&#9989; **Question 3.1.2 (12 points)** As you can see this dataset represents the __edge list__ of a graph. This graph was created by counting the number of interactions between two characters in the book. The characters represent the nodes and the edges represent an interaction between two characters. Specifically, if two characters appeared within 15 words of each other then we create an edge between them. \n",
    "\n",
    "Before we make a graph out of it, answer the following questions you might need to do some coding:\n",
    "\n",
    "1. What type of graph is this ? Directed or Undirected ? (1 point)\n",
    "2. What does the column `weight` indicate ? (1 point)\n",
    "3. How many edges will the graph have ? (2 points)\n",
    "4. How many nodes will the graph have ? (4 points) _Hint:_ It is not 139 nor 143\n",
    "5. How many interaction are there between Eddard-Stark and Cersei-Lannister ? (2 points)\n",
    "6. How many total interactions are in the entire first book ? (2 point)\n",
    "\n",
    "You need to show some code in order to get the points\n",
    "\n",
    "**IMPORTANT:** You should not make a graph yet! You need to answer the above questions without making a graph. The reason for this is so that you practice finding strategies to get your answers.\n",
    "\n"
   ]
  },
  {
   "cell_type": "code",
   "execution_count": null,
   "metadata": {
    "ExecuteTime": {
     "end_time": "2022-10-17T18:51:55.608245Z",
     "start_time": "2022-10-17T18:51:55.606629Z"
    }
   },
   "outputs": [],
   "source": [
    "# Put your code here"
   ]
  },
  {
   "cell_type": "markdown",
   "metadata": {},
   "source": [
    "&#9989; **Question 3.2 (2 points)** Create a graph from this dataset using `networkx`.\n",
    "\n",
    "*Note:* `nx.Graph` won't work here. You need to find a `networkx` function that can read edge list from datasets."
   ]
  },
  {
   "cell_type": "code",
   "execution_count": null,
   "metadata": {
    "ExecuteTime": {
     "end_time": "2022-10-17T21:00:08.827809Z",
     "start_time": "2022-10-17T21:00:08.825695Z"
    }
   },
   "outputs": [],
   "source": [
    "# Put your code here\n"
   ]
  },
  {
   "cell_type": "markdown",
   "metadata": {},
   "source": [
    "&#9989; **Question 3.2.1 (2 points)** Let's check that your previous answers are correct. Print the number of nodes and edges "
   ]
  },
  {
   "cell_type": "code",
   "execution_count": null,
   "metadata": {
    "ExecuteTime": {
     "end_time": "2022-10-17T21:00:09.966491Z",
     "start_time": "2022-10-17T21:00:09.964917Z"
    }
   },
   "outputs": [],
   "source": [
    "# Put your code here\n"
   ]
  },
  {
   "cell_type": "markdown",
   "metadata": {
    "ExecuteTime": {
     "end_time": "2022-10-05T23:14:05.313104Z",
     "start_time": "2022-10-05T23:14:04.878941Z"
    }
   },
   "source": [
    "## Who is the most important character? \n",
    "\n",
    "Below you can find a representation of the graph of the network of thrones and you can see it is a very complex network. Unfortunately it is very difficult to create such a graph with `networkx`, as a matter of fact `networkx` documentation says that it is better to use dedicated software for this. [Ref](https://networkx.org/documentation/stable/reference/drawing.html#:~:text=Proper%20graph%20visualization%20is%20hard%2C%20and%20we%20highly%20recommend%20that%20people%20visualize%20their%20graphs%20with%20tools%20dedicated%20to%20that%20task.%20Notable%20examples%20of%20dedicated%20and%20fully%2Dfeatured%20graph%20visualization%20tools%20are%20Cytoscape%2C%20Gephi%2C%20Graphviz%20and%2C%20for%20LaTeX%20typesetting%2C%20PGF/TikZ.) \n",
    "\n",
    "So here is the result of someone else' work to make our life easy for now. The colors in the graph indicate a particular community. If you want to know more how the researchers define community you can read their work [here](https://www.maa.org/sites/default/files/pdf/Mathhorizons/NetworkofThrones%20%281%29.pdf).\n",
    "\n",
    "<img src=\"https://networkofthrones.files.wordpress.com/2017/07/got1v3-network.png?w=676\" width = 676>\n",
    "\n",
    "[Image credit](https://networkofthrones.wordpress.com/the-novels/a-game-of-thrones/)\n",
    "\n",
    "The goal of all data science projects is to answer a **specific** question. The network of thrones is a very complex network where no single character stands out as protagonist. As a matter of fact there is no protagonist in Game of Thrones, especially because you don't know if that character will survive till the end of the chapter. So let's try and find the answer to the following question:\n",
    "\n",
    "    Who is the most important character in book 1 ?\n",
    "\n",
    "### Centrality\n",
    "But what does it mean to be _the most important character_ ? How do we define _important_ ? Well, in the world of TV critics everybody will have their opinion so let's create our own based on science. Luckily in network science we can measure the importance (or centrality) of each node. However, even in math there are multiple definitions of centrality. [Here](https://en.wikipedia.org/wiki/Centrality) is a list of possible network centrality measures. Obviously there are too many of them, so we will select only a few\n",
    "\n",
    "### Degree\n",
    "The simplest centrality measure is to count the number of edges connected to each node. This number is called the `degree` of each node and you can use the **method** [`degree`](https://networkx.org/documentation/stable/reference/generated/networkx.classes.function.degree.html#degree) to calculate it.  \n",
    "\n",
    "### Weighted Degree Centrality\n",
    "The second simplest centrality measure is to weight the degree of each node based on the weight of its edges. In other words calculated the degree of each node by summing the weight of each of its edges. `networkx` does not have a function to calculate this, however, the **method** [`degree`](https://networkx.org/documentation/stable/reference/generated/networkx.classes.function.degree.html#degree) does have an option `weight` in it. \n",
    "\n",
    "### [Eigenvector Centrality](https://en.wikipedia.org/wiki/Eigenvector_centrality)\n",
    "Let's get a little more complex now. Graphs can be represented as square matrices as such we can do some linear algebra on them. Specifically, we can find the eigenvectors and eigenvalues of the matrix. Mathematically, each node is given a score based on this equation\n",
    "\n",
    "$$n_i = \\frac{1}{\\lambda} \\sum_{j} a_{i,j} n_j$$\n",
    "\n",
    "where $n_i$ is the $i$th node, $a_{i,j}$ is equal to 1 if the $n_i$ and $n_j$ are connected and 0 otherwise, and $\\lambda$ is the largest eigenvalue of the adjacency matrix. In other words a high eigenvector centrality score for node $n_i$ indicates that it is connected to many other nodes who themselves have high eigenvector centrality scores. In terms of our network of thrones, it means that a character with a high eigenvector scores is connected to many other characters who themselves are well connected, _i.e._ how powerful are your connections? \n",
    "\n",
    "Don't worry I won't ask you to write a code to do the above math, `networkx` has a function for it. It is called, [`eigenvector_centrality`](https://networkx.org/documentation/stable/reference/algorithms/generated/networkx.algorithms.centrality.eigenvector_centrality.html). \n",
    "\n",
    "### Weighted Eigenvector Centrality\n",
    "Notice that the matrix elements $a_{ij}$ above are either 1 or 0. What if we use the weights of the edges as the matrix elements? This can be easily done by adding the option `weight = \"weight\"` into the function [`eigenvector_centrality`](https://networkx.org/documentation/stable/reference/algorithms/generated/networkx.algorithms.centrality.eigenvector_centrality.html). \n",
    "\n",
    "\n",
    "&#9989; **Question 3.3 (8 points)** In the following cell or cells write some code that:\n",
    "    - calculates the **degree, weighted degree, eigenvector centrality, and weighted eigenvector centrality** for each node\n",
    "    - makes a plot that shows the first five central characters according to each measure. Your plot should be similar to the one below\n",
    "    \n",
    "\n",
    "![image](https://github.com/msu-cmse-courses/cmse202-F22-data/blob/main/HW/Homework_3/got_plots.png)"
   ]
  },
  {
   "cell_type": "code",
   "execution_count": null,
   "metadata": {
    "ExecuteTime": {
     "end_time": "2022-10-17T21:00:11.693594Z",
     "start_time": "2022-10-17T21:00:11.418185Z"
    }
   },
   "outputs": [],
   "source": [
    "# Put your code here\n",
    "\n",
    "\n",
    "fig, axes = plt.subplots(1, 4, figsize = (19, 6))\n",
    "\n",
    "# make your plot here using the fig, ax created above\n",
    "\n"
   ]
  },
  {
   "cell_type": "markdown",
   "metadata": {},
   "source": [
    "&#9989; **Question 3.3.1 (5 points)** All four measures seems to agree on the first two most important characters. However, they don't agree on the third most important person. Based on the above analysis who would you say is the third most important and why did you choose them? Explain your answer.\n",
    "\n",
    "_Note:_ This question does not have a correct answer. You will get full points if you provide a well thought reason for your answer. However, you get zero points if you just give a name without explanation. \n",
    "Here are examples of answers that will still get zero points:\n",
    "\n",
    "- [character name] because I watched all the seasons of Game of thrones and know where this is going.\n",
    "- [character name] because they are my favorite character.\n",
    "- [character_name] because I don't have time to do this question\n",
    "- Jon Snow because like him I don't know nothing\n",
    "\n",
    "The following is an example of an answer worth 2 points\n",
    "\n",
    "- [character_name] because they appear in the top five of at least three metrics\n",
    "\n"
   ]
  },
  {
   "cell_type": "markdown",
   "metadata": {},
   "source": [
    "\n",
    "### &#128721; STOP\n",
    "**Pause to commit your changes to your Git repository! (1 point)**\n",
    "\n",
    "Take a moment to save your notebook, commit the changes to your Git repository using the commit message \"Committing Part 3\", "
   ]
  },
  {
   "cell_type": "markdown",
   "metadata": {},
   "source": [
    "---\n",
    "\n",
    "<a id=\"part4\"></a>\n",
    "[Back to ToC](#toc)\n",
    "\n",
    "# Part 4. Finishing up (3 points)\n",
    "\n",
    "\n",
    "It is now time to merge your changes to the main branch and push"
   ]
  },
  {
   "cell_type": "markdown",
   "metadata": {},
   "source": [
    "&#9989; **Question 4.1 (1 point):** Switch to your main branch\n",
    "\n",
    "```bash\n",
    "# Put the command(s) to switch to your main branch\n",
    "```"
   ]
  },
  {
   "cell_type": "markdown",
   "metadata": {},
   "source": [
    "&#9989; **Question 4.2 (1 point):** Merge your `hw03-branch`\n",
    "\n",
    "```bash\n",
    "# Put the command(s) to merge your branch\n",
    "```"
   ]
  },
  {
   "cell_type": "markdown",
   "metadata": {
    "ExecuteTime": {
     "end_time": "2022-10-17T20:59:31.700043Z",
     "start_time": "2022-10-17T20:59:31.697281Z"
    }
   },
   "source": [
    "&#9989; **Question 4.3 (1 point):** Finally push the changes to GitHub\n",
    "\n",
    "```bash\n",
    "# Put the command(s) to push your new main branch\n",
    "```"
   ]
  },
  {
   "cell_type": "markdown",
   "metadata": {},
   "source": [
    "## Assignment wrap-up\n",
    "\n",
    "Please fill out the form that appears when you run the code below.  **You must completely fill this out in order to receive credit for the assignment!**"
   ]
  },
  {
   "cell_type": "code",
   "execution_count": null,
   "metadata": {
    "ExecuteTime": {
     "end_time": "2022-10-17T20:57:09.785240Z",
     "start_time": "2022-10-17T20:57:09.777675Z"
    }
   },
   "outputs": [],
   "source": [
    "from IPython.display import HTML\n",
    "HTML(\n",
    "\"\"\"\n",
    "<iframe \n",
    "\tsrc=\"https://forms.office.com/r/WgM1mw9He8\" \n",
    "\twidth=\"800px\" \n",
    "\theight=\"600px\" \n",
    "\tframeborder=\"0\" \n",
    "\tmarginheight=\"0\" \n",
    "\tmarginwidth=\"0\">\n",
    "\tLoading...\n",
    "</iframe>\n",
    "\"\"\"\n",
    ")"
   ]
  },
  {
   "cell_type": "markdown",
   "metadata": {},
   "source": [
    "### Congratulations, you're done!\n",
    "\n",
    "Submit this assignment by uploading it to the course Desire2Learn web page.  Go to the \"Homework Assignments\" folder, find the dropbox link for Homework #3, and upload **your notebook** there."
   ]
  },
  {
   "cell_type": "markdown",
   "metadata": {},
   "source": [
    "&#169; Copyright 2022,  Department of Computational Mathematics, Science and Engineering at Michigan State University"
   ]
  },
  {
   "cell_type": "code",
   "execution_count": null,
   "metadata": {},
   "outputs": [],
   "source": []
  }
 ],
 "metadata": {
  "anaconda-cloud": {},
  "kernelspec": {
   "display_name": "Python 3",
   "language": "python",
   "name": "python3"
  },
  "language_info": {
   "codemirror_mode": {
    "name": "ipython",
    "version": 3
   },
   "file_extension": ".py",
   "mimetype": "text/x-python",
   "name": "python",
   "nbconvert_exporter": "python",
   "pygments_lexer": "ipython3",
   "version": "3.8.8"
  },
  "latex_envs": {
   "LaTeX_envs_menu_present": true,
   "autoclose": false,
   "autocomplete": true,
   "bibliofile": "biblio.bib",
   "cite_by": "apalike",
   "current_citInitial": 1,
   "eqLabelWithNumbers": true,
   "eqNumInitial": 1,
   "hotkeys": {
    "equation": "Ctrl-E",
    "itemize": "Ctrl-I"
   },
   "labels_anchors": false,
   "latex_user_defs": false,
   "report_style_numbering": false,
   "user_envs_cfg": false
  },
  "widgets": {
   "application/vnd.jupyter.widget-state+json": {
    "state": {},
    "version_major": 2,
    "version_minor": 0
   }
  }
 },
 "nbformat": 4,
 "nbformat_minor": 4
}
