{
 "cells": [
  {
   "cell_type": "markdown",
   "metadata": {},
   "source": [
    "# Homework Assignment #4 (Individual)\n",
    "## Regression models"
   ]
  },
  {
   "cell_type": "markdown",
   "metadata": {},
   "source": [
    "### <p style=\"text-align: right;\"> &#9989; Richard Arbury</p>\n",
    "### <p style=\"text-align: right;\"> &#9989; arburyri</p>"
   ]
  },
  {
   "cell_type": "markdown",
   "metadata": {},
   "source": [
    "### Goal for this homework assignment\n",
    "By now, you have learned a bit about regression models. In this assignment, you will practice:\n",
    "\n",
    "* Performing multiple regression using `statsmodels` and/or `sklearn`\n",
    "* Understand the metric of a good fit\n",
    "* Test/Train datasets\n",
    "\n",
    "**This assignment is due roughly two weeks from now at 11:59 pm on Friday, November 11.** It should be uploaded into the \"Homework Assignments\" submission folder for Homework #4.  Submission instructions can be found at the end of the notebook.\n"
   ]
  },
  {
   "cell_type": "markdown",
   "metadata": {},
   "source": [
    "------\n",
    "<a id=\"toc\"></a>\n",
    "\n",
    "## Table of contents\n",
    "\n",
    "1. [Part 1: Git](#part1) (7 points)\n",
    "\n",
    "2. [Part 2: Multiple Regression](#part3) (42 points)\n",
    "\n",
    "3. [Part 3: Logistic Regression](#part4) (25 points)\n",
    "\n",
    "4. [Part 4: Finishing](#conclusion) (3 points)"
   ]
  },
  {
   "cell_type": "code",
   "execution_count": 1,
   "metadata": {
    "ExecuteTime": {
     "end_time": "2022-11-01T13:01:01.026055Z",
     "start_time": "2022-11-01T13:01:01.022321Z"
    }
   },
   "outputs": [
    {
     "name": "stdout",
     "output_type": "stream",
     "text": [
      "The total grade for this assignment is 77\n"
     ]
    }
   ],
   "source": [
    "grades = [7, 42, 25, 3]\n",
    "\n",
    "print(f\"The total grade for this assignment is {sum(grades)}\" )"
   ]
  },
  {
   "cell_type": "markdown",
   "metadata": {},
   "source": [
    "---\n",
    "<a id=\"part1\"></a>\n",
    "[Back to ToC](#toc)\n",
    "\n",
    "## Part 1: Git (7 points)\n",
    "\n",
    "For this assignment, you're going to add it to the `cmse202-f22-turnin` repository you created in class so that you can track your progress on the assignment and preserve the final version that you turn in. In order to do this you need to\n",
    "\n",
    "**&#9989; Question 1.1 (1 point)**: Navigate to your `cmse202-f22-turnin` **local** repository and create a new directory called `hw-04` and copy this notebook in that new directory.\n",
    "\n",
    "``` bash\n",
    "mkdir hw-04\n",
    "\n",
    "```\n"
   ]
  },
  {
   "cell_type": "markdown",
   "metadata": {},
   "source": [
    "&#9989; **Question 1.2 (2 points)**: Before you move on, create a new branch called `hw04_branch` and move into it. In the cell below put the command(s) to create a new branch and to checkout the new branch. (_Note_: your TA will be able to see if you have created the branch and its history)."
   ]
  },
  {
   "cell_type": "markdown",
   "metadata": {},
   "source": [
    "``` bash\n",
    "git checkout -b hw04_branch\n",
    "\n",
    "```"
   ]
  },
  {
   "cell_type": "markdown",
   "metadata": {},
   "source": [
    "&#9989; **Question 1.3 (3 points):**\n",
    "Add your name and GitHub username to the top of the notebook, then add and commit **ONLY** the notebook.\n",
    "\n",
    "``` bash\n",
    "git commit -m \"check1\" \n",
    "```\n",
    "\n",
    "What is the commit message you used ?\n",
    "\n",
    "``` bash\n",
    "check1\n",
    "```"
   ]
  },
  {
   "cell_type": "markdown",
   "metadata": {},
   "source": [
    "&#9989; **Question 1.4 (1 point):** Finally push the updated notebook to GitHub.\n",
    "\n",
    "``` bash\n",
    "git push --set-upstream origin hw04_branch\n",
    "```\n"
   ]
  },
  {
   "cell_type": "markdown",
   "metadata": {},
   "source": [
    "**Important**: Double check you've added your Professor and your TA as collaborators to your \"turnin\" repository (you should have done this in the previous homework assignment).\n",
    "\n",
    "**Also important**: Make sure that the version of this notebook that you are working on is the same one that you just added to your repository! If you are working on a different copy of the notebook, **none of your changes will be tracked**!\n",
    "\n",
    "If everything went as intended, the file should now show up on your GitHub account in the \"`cmse202-f22-turnin`\" repository inside the `hw-04` directory that you just created within the new branch `hw04-branch`."
   ]
  },
  {
   "cell_type": "code",
   "execution_count": 31,
   "metadata": {
    "ExecuteTime": {
     "end_time": "2022-10-30T23:20:51.656851Z",
     "start_time": "2022-10-30T23:20:51.650966Z"
    }
   },
   "outputs": [
    {
     "name": "stdout",
     "output_type": "stream",
     "text": [
      "Using matplotlib backend: agg\n",
      "Populating the interactive namespace from numpy and matplotlib\n"
     ]
    }
   ],
   "source": [
    "# Run this cell before moving on\n",
    "%pylab\n",
    "%matplotlib inline\n",
    "import pandas as pd\n",
    "import seaborn as sns\n",
    "import statsmodels.api as sm\n",
    "import matplotlib.pyplot as plt\n",
    "\n",
    "sns.set_context(\"talk\")"
   ]
  },
  {
   "cell_type": "markdown",
   "metadata": {
    "tags": []
   },
   "source": [
    "---\n",
    "<a id=\"part2\"></a>\n",
    "[Back to ToC](#toc)\n",
    "\n",
    "## Part 2: Mulitple Regression (42 points)\n",
    "\n",
    "In this part of the homework, you will work with data from the California Housing Prices dataset. Our goal is to use ordinary least squares to design a linear model to fit the median house value in a California census district given eight features. We will try both a linear model using all the provided features, as well as a reduced linear model which only uses a subset of the features. "
   ]
  },
  {
   "cell_type": "markdown",
   "metadata": {},
   "source": [
    "&#9989;  **Question 2.1 (1 points)**: **Do This:** Download the file `housing.csv` from the link below, and save it into the same directory as your notebook. **Then, in the cell below, put the command line command(s) you used to download the file.** If you did not use a command line tool to download the file, write down the command(s) that would have downloaded the file.\n",
    "\n",
    "`https://raw.githubusercontent.com/msu-cmse-courses/cmse202-F22-data/main/data/housing.csv`"
   ]
  },
  {
   "cell_type": "code",
   "execution_count": 3,
   "metadata": {},
   "outputs": [
    {
     "name": "stdout",
     "output_type": "stream",
     "text": [
      "  % Total    % Received % Xferd  Average Speed   Time    Time     Time  Current\r\n",
      "                                 Dload  Upload   Total   Spent    Left  Speed\r\n",
      "\r",
      "  0     0    0     0    0     0      0      0 --:--:-- --:--:-- --:--:--     0\r",
      "100 1454k  100 1454k    0     0  34.6M      0 --:--:-- --:--:-- --:--:-- 34.6M\r\n"
     ]
    }
   ],
   "source": [
    "!curl -O https://raw.githubusercontent.com/msu-cmse-courses/cmse202-F22-data/main/data/housing.csv"
   ]
  },
  {
   "cell_type": "markdown",
   "metadata": {},
   "source": [
    "&#9989;  **Question 2.2 (2 points)**: **Do This:** To get started, read in the `housing.csv` dataset into a Pandas DataFrame, and then display some of its rows."
   ]
  },
  {
   "cell_type": "code",
   "execution_count": 18,
   "metadata": {
    "ExecuteTime": {
     "end_time": "2022-10-30T23:18:35.879578Z",
     "start_time": "2022-10-30T23:18:10.760Z"
    }
   },
   "outputs": [
    {
     "data": {
      "text/html": [
       "<div>\n",
       "<style scoped>\n",
       "    .dataframe tbody tr th:only-of-type {\n",
       "        vertical-align: middle;\n",
       "    }\n",
       "\n",
       "    .dataframe tbody tr th {\n",
       "        vertical-align: top;\n",
       "    }\n",
       "\n",
       "    .dataframe thead th {\n",
       "        text-align: right;\n",
       "    }\n",
       "</style>\n",
       "<table border=\"1\" class=\"dataframe\">\n",
       "  <thead>\n",
       "    <tr style=\"text-align: right;\">\n",
       "      <th></th>\n",
       "      <th>longitude</th>\n",
       "      <th>latitude</th>\n",
       "      <th>housing_median_age</th>\n",
       "      <th>avg_rooms</th>\n",
       "      <th>avg_bedrooms</th>\n",
       "      <th>population</th>\n",
       "      <th>households</th>\n",
       "      <th>median_income</th>\n",
       "      <th>median_house_value</th>\n",
       "      <th>ocean_proximity</th>\n",
       "    </tr>\n",
       "  </thead>\n",
       "  <tbody>\n",
       "    <tr>\n",
       "      <th>0</th>\n",
       "      <td>-122.23</td>\n",
       "      <td>37.88</td>\n",
       "      <td>41</td>\n",
       "      <td>6.984127</td>\n",
       "      <td>1.023810</td>\n",
       "      <td>322</td>\n",
       "      <td>126</td>\n",
       "      <td>8.3252</td>\n",
       "      <td>452600</td>\n",
       "      <td>NEAR BAY</td>\n",
       "    </tr>\n",
       "    <tr>\n",
       "      <th>1</th>\n",
       "      <td>-122.22</td>\n",
       "      <td>37.86</td>\n",
       "      <td>21</td>\n",
       "      <td>6.238137</td>\n",
       "      <td>0.971880</td>\n",
       "      <td>2401</td>\n",
       "      <td>1138</td>\n",
       "      <td>8.3014</td>\n",
       "      <td>358500</td>\n",
       "      <td>NEAR BAY</td>\n",
       "    </tr>\n",
       "    <tr>\n",
       "      <th>2</th>\n",
       "      <td>-122.24</td>\n",
       "      <td>37.85</td>\n",
       "      <td>52</td>\n",
       "      <td>8.288136</td>\n",
       "      <td>1.073446</td>\n",
       "      <td>496</td>\n",
       "      <td>177</td>\n",
       "      <td>7.2574</td>\n",
       "      <td>352100</td>\n",
       "      <td>NEAR BAY</td>\n",
       "    </tr>\n",
       "    <tr>\n",
       "      <th>3</th>\n",
       "      <td>-122.25</td>\n",
       "      <td>37.85</td>\n",
       "      <td>52</td>\n",
       "      <td>5.817352</td>\n",
       "      <td>1.073059</td>\n",
       "      <td>558</td>\n",
       "      <td>219</td>\n",
       "      <td>5.6431</td>\n",
       "      <td>341300</td>\n",
       "      <td>NEAR BAY</td>\n",
       "    </tr>\n",
       "    <tr>\n",
       "      <th>4</th>\n",
       "      <td>-122.25</td>\n",
       "      <td>37.85</td>\n",
       "      <td>52</td>\n",
       "      <td>6.281853</td>\n",
       "      <td>1.081081</td>\n",
       "      <td>565</td>\n",
       "      <td>259</td>\n",
       "      <td>3.8462</td>\n",
       "      <td>342200</td>\n",
       "      <td>NEAR BAY</td>\n",
       "    </tr>\n",
       "  </tbody>\n",
       "</table>\n",
       "</div>"
      ],
      "text/plain": [
       "   longitude  latitude  housing_median_age  avg_rooms  avg_bedrooms  \\\n",
       "0    -122.23     37.88                  41   6.984127      1.023810   \n",
       "1    -122.22     37.86                  21   6.238137      0.971880   \n",
       "2    -122.24     37.85                  52   8.288136      1.073446   \n",
       "3    -122.25     37.85                  52   5.817352      1.073059   \n",
       "4    -122.25     37.85                  52   6.281853      1.081081   \n",
       "\n",
       "   population  households  median_income  median_house_value ocean_proximity  \n",
       "0         322         126         8.3252              452600        NEAR BAY  \n",
       "1        2401        1138         8.3014              358500        NEAR BAY  \n",
       "2         496         177         7.2574              352100        NEAR BAY  \n",
       "3         558         219         5.6431              341300        NEAR BAY  \n",
       "4         565         259         3.8462              342200        NEAR BAY  "
      ]
     },
     "execution_count": 18,
     "metadata": {},
     "output_type": "execute_result"
    }
   ],
   "source": [
    "df=pd.read_csv(\"housing.csv\")\n",
    "df.head()"
   ]
  },
  {
   "cell_type": "markdown",
   "metadata": {},
   "source": [
    "&#9989;  **Question 2.3 (2 points)**: You should notice that the DataFrame has a non-numerical feature called \"ocean_proximity\". There are also a few rows with `NaN` values, although you may not see them in the few rows that were displayed. **Do This:** **Drop the \"ocean_proximity\" column from the dataframe, and drop all the rows with `NaN` values.** Note that we will not use the \"ocean_proximity\" column or any of the rows with `NaN` values in this assignment."
   ]
  },
  {
   "cell_type": "code",
   "execution_count": 19,
   "metadata": {
    "ExecuteTime": {
     "end_time": "2022-10-30T23:18:35.880723Z",
     "start_time": "2022-10-30T23:18:10.770Z"
    }
   },
   "outputs": [],
   "source": [
    "df=df.drop([\"ocean_proximity\"],axis=1)"
   ]
  },
  {
   "cell_type": "code",
   "execution_count": 20,
   "metadata": {},
   "outputs": [],
   "source": [
    "df=df.dropna()"
   ]
  },
  {
   "cell_type": "markdown",
   "metadata": {},
   "source": [
    "&#9989;  **Question 2.4 (6 points)**: **Do This:** Using the `OLS()` method in `statsmodels.api`, make an ordinary least squares model that predicts \"median_house_value\" using the other features and display the `.summary()` of that process. **Be sure to use the `add_constant()` method to add a column of ones to the DataFrame before using the `OLS()` method so that your linear model includes a constant term.**"
   ]
  },
  {
   "cell_type": "code",
   "execution_count": 21,
   "metadata": {
    "ExecuteTime": {
     "end_time": "2022-10-30T23:18:35.881868Z",
     "start_time": "2022-10-30T23:18:10.779Z"
    }
   },
   "outputs": [
    {
     "data": {
      "text/html": [
       "<table class=\"simpletable\">\n",
       "<caption>OLS Regression Results</caption>\n",
       "<tr>\n",
       "  <th>Dep. Variable:</th>    <td>median_house_value</td> <th>  R-squared (uncentered):</th>       <td>   0.901</td>  \n",
       "</tr>\n",
       "<tr>\n",
       "  <th>Model:</th>                    <td>OLS</td>        <th>  Adj. R-squared (uncentered):</th>  <td>   0.901</td>  \n",
       "</tr>\n",
       "<tr>\n",
       "  <th>Method:</th>              <td>Least Squares</td>   <th>  F-statistic:       </th>           <td>2.325e+04</td> \n",
       "</tr>\n",
       "<tr>\n",
       "  <th>Date:</th>              <td>Fri, 11 Nov 2022</td>  <th>  Prob (F-statistic):</th>            <td>  0.00</td>   \n",
       "</tr>\n",
       "<tr>\n",
       "  <th>Time:</th>                  <td>19:59:14</td>      <th>  Log-Likelihood:    </th>          <td>-2.5823e+05</td>\n",
       "</tr>\n",
       "<tr>\n",
       "  <th>No. Observations:</th>       <td> 20433</td>       <th>  AIC:               </th>           <td>5.165e+05</td> \n",
       "</tr>\n",
       "<tr>\n",
       "  <th>Df Residuals:</th>           <td> 20425</td>       <th>  BIC:               </th>           <td>5.165e+05</td> \n",
       "</tr>\n",
       "<tr>\n",
       "  <th>Df Model:</th>               <td>     8</td>       <th>                     </th>               <td> </td>     \n",
       "</tr>\n",
       "<tr>\n",
       "  <th>Covariance Type:</th>       <td>nonrobust</td>     <th>                     </th>               <td> </td>     \n",
       "</tr>\n",
       "</table>\n",
       "<table class=\"simpletable\">\n",
       "<tr>\n",
       "           <td></td>             <th>coef</th>     <th>std err</th>      <th>t</th>      <th>P>|t|</th>  <th>[0.025</th>    <th>0.975]</th>  \n",
       "</tr>\n",
       "<tr>\n",
       "  <th>longitude</th>          <td>-1991.4625</td> <td>  109.918</td> <td>  -18.118</td> <td> 0.000</td> <td>-2206.911</td> <td>-1776.013</td>\n",
       "</tr>\n",
       "<tr>\n",
       "  <th>latitude</th>           <td>-7820.3760</td> <td>  346.713</td> <td>  -22.556</td> <td> 0.000</td> <td>-8499.962</td> <td>-7140.790</td>\n",
       "</tr>\n",
       "<tr>\n",
       "  <th>housing_median_age</th> <td> 1749.1852</td> <td>   44.881</td> <td>   38.974</td> <td> 0.000</td> <td> 1661.215</td> <td> 1837.155</td>\n",
       "</tr>\n",
       "<tr>\n",
       "  <th>avg_rooms</th>          <td>-1.355e+04</td> <td>  601.249</td> <td>  -22.534</td> <td> 0.000</td> <td>-1.47e+04</td> <td>-1.24e+04</td>\n",
       "</tr>\n",
       "<tr>\n",
       "  <th>avg_bedrooms</th>       <td> 6.548e+04</td> <td> 2915.182</td> <td>   22.461</td> <td> 0.000</td> <td> 5.98e+04</td> <td> 7.12e+04</td>\n",
       "</tr>\n",
       "<tr>\n",
       "  <th>population</th>         <td>  -42.8960</td> <td>    1.112</td> <td>  -38.567</td> <td> 0.000</td> <td>  -45.076</td> <td>  -40.716</td>\n",
       "</tr>\n",
       "<tr>\n",
       "  <th>households</th>         <td>  143.3193</td> <td>    3.311</td> <td>   43.282</td> <td> 0.000</td> <td>  136.829</td> <td>  149.810</td>\n",
       "</tr>\n",
       "<tr>\n",
       "  <th>median_income</th>      <td> 4.878e+04</td> <td>  413.954</td> <td>  117.838</td> <td> 0.000</td> <td>  4.8e+04</td> <td> 4.96e+04</td>\n",
       "</tr>\n",
       "</table>\n",
       "<table class=\"simpletable\">\n",
       "<tr>\n",
       "  <th>Omnibus:</th>       <td>4729.150</td> <th>  Durbin-Watson:     </th> <td>   0.997</td> \n",
       "</tr>\n",
       "<tr>\n",
       "  <th>Prob(Omnibus):</th>  <td> 0.000</td>  <th>  Jarque-Bera (JB):  </th> <td>19042.265</td>\n",
       "</tr>\n",
       "<tr>\n",
       "  <th>Skew:</th>           <td> 1.100</td>  <th>  Prob(JB):          </th> <td>    0.00</td> \n",
       "</tr>\n",
       "<tr>\n",
       "  <th>Kurtosis:</th>       <td> 7.187</td>  <th>  Cond. No.          </th> <td>1.10e+04</td> \n",
       "</tr>\n",
       "</table><br/><br/>Notes:<br/>[1] R² is computed without centering (uncentered) since the model does not contain a constant.<br/>[2] Standard Errors assume that the covariance matrix of the errors is correctly specified.<br/>[3] The condition number is large, 1.1e+04. This might indicate that there are<br/>strong multicollinearity or other numerical problems."
      ],
      "text/plain": [
       "<class 'statsmodels.iolib.summary.Summary'>\n",
       "\"\"\"\n",
       "                                 OLS Regression Results                                \n",
       "=======================================================================================\n",
       "Dep. Variable:     median_house_value   R-squared (uncentered):                   0.901\n",
       "Model:                            OLS   Adj. R-squared (uncentered):              0.901\n",
       "Method:                 Least Squares   F-statistic:                          2.325e+04\n",
       "Date:                Fri, 11 Nov 2022   Prob (F-statistic):                        0.00\n",
       "Time:                        19:59:14   Log-Likelihood:                     -2.5823e+05\n",
       "No. Observations:               20433   AIC:                                  5.165e+05\n",
       "Df Residuals:                   20425   BIC:                                  5.165e+05\n",
       "Df Model:                           8                                                  \n",
       "Covariance Type:            nonrobust                                                  \n",
       "======================================================================================\n",
       "                         coef    std err          t      P>|t|      [0.025      0.975]\n",
       "--------------------------------------------------------------------------------------\n",
       "longitude          -1991.4625    109.918    -18.118      0.000   -2206.911   -1776.013\n",
       "latitude           -7820.3760    346.713    -22.556      0.000   -8499.962   -7140.790\n",
       "housing_median_age  1749.1852     44.881     38.974      0.000    1661.215    1837.155\n",
       "avg_rooms          -1.355e+04    601.249    -22.534      0.000   -1.47e+04   -1.24e+04\n",
       "avg_bedrooms        6.548e+04   2915.182     22.461      0.000    5.98e+04    7.12e+04\n",
       "population           -42.8960      1.112    -38.567      0.000     -45.076     -40.716\n",
       "households           143.3193      3.311     43.282      0.000     136.829     149.810\n",
       "median_income       4.878e+04    413.954    117.838      0.000     4.8e+04    4.96e+04\n",
       "==============================================================================\n",
       "Omnibus:                     4729.150   Durbin-Watson:                   0.997\n",
       "Prob(Omnibus):                  0.000   Jarque-Bera (JB):            19042.265\n",
       "Skew:                           1.100   Prob(JB):                         0.00\n",
       "Kurtosis:                       7.187   Cond. No.                     1.10e+04\n",
       "==============================================================================\n",
       "\n",
       "Notes:\n",
       "[1] R² is computed without centering (uncentered) since the model does not contain a constant.\n",
       "[2] Standard Errors assume that the covariance matrix of the errors is correctly specified.\n",
       "[3] The condition number is large, 1.1e+04. This might indicate that there are\n",
       "strong multicollinearity or other numerical problems.\n",
       "\"\"\""
      ]
     },
     "execution_count": 21,
     "metadata": {},
     "output_type": "execute_result"
    }
   ],
   "source": [
    "columns=[\"longitude\",\"latitude\",\"housing_median_age\",\"avg_rooms\",\"avg_bedrooms\",\"population\",\"households\",\"median_income\"]\n",
    "x=df[columns]\n",
    "y=df[\"median_house_value\"]\n",
    "\n",
    "model=sm.OLS(y,x)\n",
    "results=model.fit()\n",
    "results.summary()"
   ]
  },
  {
   "cell_type": "markdown",
   "metadata": {},
   "source": [
    "&#9989;  **Question 2.5 (6 points)**: **Answer These Questions:** \n",
    "1. Based on the output of the OLS summary, does this linear model appear to be a good fit? \n",
    "2. Which of these features appear to be \"significant\" in predicting the \"median_house_value\"?"
   ]
  },
  {
   "cell_type": "markdown",
   "metadata": {},
   "source": [
    "1. R^2 is high so yes the model is a good \"fit\". But are F-statitic is 0, so we have 0 explained variance. Skewness is above one so the distrubtion is very un-symmetrical. Kurtosis is way above one, the distrubtion is also very very peaked.\n",
    "\n",
    "2. Population, Households, and housing_median_avg have the lowest Standard Error, so these variables."
   ]
  },
  {
   "cell_type": "markdown",
   "metadata": {},
   "source": [
    "&#9989;  **Question 2.6 (4 points)**: A student from U of M managed to enroll in this class (don't ask us how) and is working on this homework. They got the following output when they used the `OLS()` method in `statsmodels.api`. \n",
    "\n",
    "<img src=\"https://i.ibb.co/pnvcKQ2/Perfect-Model.png\" width=\"400px\" border=\"0\">\n",
    "\n",
    "When you compare outputs, the Wolverine tells you \"My linear model is better than yours because my linear model has a larger $R^2$-value than your model. I guess Wolverines are way better than Spartans at data science.\"\n",
    "\n",
    "**Answer These Questions:** \n",
    "1. How did they get a linear model with a near perfect $R^2$-value? \n",
    "2. Is their model actually better than yours? \n",
    "\n",
    "Justify your answers."
   ]
  },
  {
   "cell_type": "markdown",
   "metadata": {},
   "source": [
    "1. Well considering they included the predicted variable in their model, it would be concerning if they didn't get a perfect fit. \n",
    "\n",
    "2. No, it doesn't predict anything. The full data set is and there by the actual formulas used to compute OLS Regression it would have to be perfect. In fact below I ran the same thing but added median_house_value and removed several predictor variables. R^2 still comes out perfect no matter what.\n",
    "\n"
   ]
  },
  {
   "cell_type": "code",
   "execution_count": 32,
   "metadata": {},
   "outputs": [
    {
     "data": {
      "text/html": [
       "<table class=\"simpletable\">\n",
       "<caption>OLS Regression Results</caption>\n",
       "<tr>\n",
       "  <th>Dep. Variable:</th>    <td>median_house_value</td> <th>  R-squared (uncentered):</th>       <td>   1.000</td> \n",
       "</tr>\n",
       "<tr>\n",
       "  <th>Model:</th>                    <td>OLS</td>        <th>  Adj. R-squared (uncentered):</th>  <td>   1.000</td> \n",
       "</tr>\n",
       "<tr>\n",
       "  <th>Method:</th>              <td>Least Squares</td>   <th>  F-statistic:       </th>           <td>4.805e+33</td>\n",
       "</tr>\n",
       "<tr>\n",
       "  <th>Date:</th>              <td>Fri, 11 Nov 2022</td>  <th>  Prob (F-statistic):</th>            <td>  0.00</td>  \n",
       "</tr>\n",
       "<tr>\n",
       "  <th>Time:</th>                  <td>20:11:52</td>      <th>  Log-Likelihood:    </th>          <td>4.2325e+05</td>\n",
       "</tr>\n",
       "<tr>\n",
       "  <th>No. Observations:</th>       <td> 20433</td>       <th>  AIC:               </th>          <td>-8.465e+05</td>\n",
       "</tr>\n",
       "<tr>\n",
       "  <th>Df Residuals:</th>           <td> 20429</td>       <th>  BIC:               </th>          <td>-8.465e+05</td>\n",
       "</tr>\n",
       "<tr>\n",
       "  <th>Df Model:</th>               <td>     4</td>       <th>                     </th>               <td> </td>    \n",
       "</tr>\n",
       "<tr>\n",
       "  <th>Covariance Type:</th>       <td>nonrobust</td>     <th>                     </th>               <td> </td>    \n",
       "</tr>\n",
       "</table>\n",
       "<table class=\"simpletable\">\n",
       "<tr>\n",
       "           <td></td>             <th>coef</th>     <th>std err</th>      <th>t</th>      <th>P>|t|</th>  <th>[0.025</th>    <th>0.975]</th>  \n",
       "</tr>\n",
       "<tr>\n",
       "  <th>avg_rooms</th>          <td> 2.474e-11</td> <td> 5.36e-13</td> <td>   46.162</td> <td> 0.000</td> <td> 2.37e-11</td> <td> 2.58e-11</td>\n",
       "</tr>\n",
       "<tr>\n",
       "  <th>population</th>         <td>-1.189e-14</td> <td> 3.62e-15</td> <td>   -3.281</td> <td> 0.001</td> <td> -1.9e-14</td> <td>-4.79e-15</td>\n",
       "</tr>\n",
       "<tr>\n",
       "  <th>households</th>         <td>-8.236e-14</td> <td> 1.09e-14</td> <td>   -7.572</td> <td> 0.000</td> <td>-1.04e-13</td> <td> -6.1e-14</td>\n",
       "</tr>\n",
       "<tr>\n",
       "  <th>median_house_value</th> <td>    1.0000</td> <td> 1.37e-17</td> <td>  7.3e+16</td> <td> 0.000</td> <td>    1.000</td> <td>    1.000</td>\n",
       "</tr>\n",
       "</table>\n",
       "<table class=\"simpletable\">\n",
       "<tr>\n",
       "  <th>Omnibus:</th>       <td>19170.595</td> <th>  Durbin-Watson:     </th>  <td>   0.189</td>  \n",
       "</tr>\n",
       "<tr>\n",
       "  <th>Prob(Omnibus):</th>  <td> 0.000</td>   <th>  Jarque-Bera (JB):  </th> <td>5711064.086</td>\n",
       "</tr>\n",
       "<tr>\n",
       "  <th>Skew:</th>           <td>-3.838</td>   <th>  Prob(JB):          </th>  <td>    0.00</td>  \n",
       "</tr>\n",
       "<tr>\n",
       "  <th>Kurtosis:</th>       <td>84.542</td>   <th>  Cond. No.          </th>  <td>7.43e+04</td>  \n",
       "</tr>\n",
       "</table><br/><br/>Notes:<br/>[1] R² is computed without centering (uncentered) since the model does not contain a constant.<br/>[2] Standard Errors assume that the covariance matrix of the errors is correctly specified.<br/>[3] The condition number is large, 7.43e+04. This might indicate that there are<br/>strong multicollinearity or other numerical problems."
      ],
      "text/plain": [
       "<class 'statsmodels.iolib.summary.Summary'>\n",
       "\"\"\"\n",
       "                                 OLS Regression Results                                \n",
       "=======================================================================================\n",
       "Dep. Variable:     median_house_value   R-squared (uncentered):                   1.000\n",
       "Model:                            OLS   Adj. R-squared (uncentered):              1.000\n",
       "Method:                 Least Squares   F-statistic:                          4.805e+33\n",
       "Date:                Fri, 11 Nov 2022   Prob (F-statistic):                        0.00\n",
       "Time:                        20:11:52   Log-Likelihood:                      4.2325e+05\n",
       "No. Observations:               20433   AIC:                                 -8.465e+05\n",
       "Df Residuals:                   20429   BIC:                                 -8.465e+05\n",
       "Df Model:                           4                                                  \n",
       "Covariance Type:            nonrobust                                                  \n",
       "======================================================================================\n",
       "                         coef    std err          t      P>|t|      [0.025      0.975]\n",
       "--------------------------------------------------------------------------------------\n",
       "avg_rooms           2.474e-11   5.36e-13     46.162      0.000    2.37e-11    2.58e-11\n",
       "population         -1.189e-14   3.62e-15     -3.281      0.001    -1.9e-14   -4.79e-15\n",
       "households         -8.236e-14   1.09e-14     -7.572      0.000   -1.04e-13    -6.1e-14\n",
       "median_house_value     1.0000   1.37e-17    7.3e+16      0.000       1.000       1.000\n",
       "==============================================================================\n",
       "Omnibus:                    19170.595   Durbin-Watson:                   0.189\n",
       "Prob(Omnibus):                  0.000   Jarque-Bera (JB):          5711064.086\n",
       "Skew:                          -3.838   Prob(JB):                         0.00\n",
       "Kurtosis:                      84.542   Cond. No.                     7.43e+04\n",
       "==============================================================================\n",
       "\n",
       "Notes:\n",
       "[1] R² is computed without centering (uncentered) since the model does not contain a constant.\n",
       "[2] Standard Errors assume that the covariance matrix of the errors is correctly specified.\n",
       "[3] The condition number is large, 7.43e+04. This might indicate that there are\n",
       "strong multicollinearity or other numerical problems.\n",
       "\"\"\""
      ]
     },
     "execution_count": 32,
     "metadata": {},
     "output_type": "execute_result"
    }
   ],
   "source": [
    "columns1=[\"avg_rooms\",\"population\",\"households\",\"median_house_value\"]\n",
    "x1=df[columns1]\n",
    "y1=df[\"median_house_value\"]\n",
    "\n",
    "model1=sm.OLS(y1,x1)\n",
    "results1=model1.fit()\n",
    "results1.summary()"
   ]
  },
  {
   "cell_type": "markdown",
   "metadata": {},
   "source": [
    "&#9989;  **Question 2.7 (2 points)**: **Answer This:** Use `plot_regress_exog` to examine the fits to the data, using `latitude` as the independent variable. Notice that the predicted data points don’t follow a linear trend (I.e., a straight line). Describe the trend you see. "
   ]
  },
  {
   "cell_type": "code",
   "execution_count": 41,
   "metadata": {
    "ExecuteTime": {
     "end_time": "2022-10-30T23:18:35.883134Z",
     "start_time": "2022-10-30T23:18:10.824Z"
    }
   },
   "outputs": [
    {
     "data": {
      "image/png": "[encoded data removed]",
      "text/plain": [
       "<Figure size 864x720 with 4 Axes>"
      ]
     },
     "metadata": {
      "needs_background": "light"
     },
     "output_type": "display_data"
    }
   ],
   "source": [
    "fig = plt.figure(figsize=(12, 10))\n",
    "sm.graphics.plot_regress_exog(results, 'latitude', fig=fig)\n",
    "plt.show()"
   ]
  },
  {
   "cell_type": "markdown",
   "metadata": {},
   "source": [
    "The trend appears to be non-linear. But theres a lot less correlation  when using latitude as the independent in the linear sense. \n"
   ]
  },
  {
   "cell_type": "markdown",
   "metadata": {},
   "source": [
    "&#9989;  **Question 2.8 (1 points)**: **Answer This:** Explain why the best fit values don’t follow a straight line. Is this a linear model (I.e., with depdence on `latitude`, but no dependence on `latitude`^2, `latitude`^3, etc.)? Be as detailed as possible. "
   ]
  },
  {
   "cell_type": "markdown",
   "metadata": {},
   "source": [
    "Some of the varibles correlate,multicollinearity, too heavily to each other. I could fix this by running auxillary regressions, or if I knew how, trying non-linear regressions. We also have a lot of variables for a linear regression model.\n"
   ]
  },
  {
   "cell_type": "markdown",
   "metadata": {},
   "source": [
    "&#9989;  **Question 2.9 (6 points)**: In the output of the OLS summary, you should have seen a note that says something like \n",
    "\n",
    "\"The condition number is large, [[number]]. This might indicate that there are strong multicollinearity or other numerical problems.\" \n",
    "\n",
    "Multicollinearity is a statistical phenomenon where some of the features in a model can be linearly predicted using some of the other features in the model. In other words, the features in the model are somewhat redundant. Hence, even if each feature may be deemed significant, it may still be possible to form a \"reduced\" model using a smaller number of features. \n",
    "\n",
    "**Do This:** Design a second linear model that uses a subset of the eight features to predict the \"median_house_value\", and fits the data comparably well as the first linear model you designed in Question 3.4. You can choose this subset either by trial and error, or by any other method you'd like."
   ]
  },
  {
   "cell_type": "code",
   "execution_count": 60,
   "metadata": {
    "ExecuteTime": {
     "end_time": "2022-10-30T23:37:47.157663Z",
     "start_time": "2022-10-30T23:37:47.155708Z"
    }
   },
   "outputs": [
    {
     "data": {
      "text/html": [
       "<table class=\"simpletable\">\n",
       "<caption>OLS Regression Results</caption>\n",
       "<tr>\n",
       "  <th>Dep. Variable:</th>    <td>median_house_value</td> <th>  R-squared (uncentered):</th>       <td>   0.777</td>  \n",
       "</tr>\n",
       "<tr>\n",
       "  <th>Model:</th>                    <td>OLS</td>        <th>  Adj. R-squared (uncentered):</th>  <td>   0.777</td>  \n",
       "</tr>\n",
       "<tr>\n",
       "  <th>Method:</th>              <td>Least Squares</td>   <th>  F-statistic:       </th>           <td>1.776e+04</td> \n",
       "</tr>\n",
       "<tr>\n",
       "  <th>Date:</th>              <td>Fri, 11 Nov 2022</td>  <th>  Prob (F-statistic):</th>            <td>  0.00</td>   \n",
       "</tr>\n",
       "<tr>\n",
       "  <th>Time:</th>                  <td>22:58:56</td>      <th>  Log-Likelihood:    </th>          <td>-2.6655e+05</td>\n",
       "</tr>\n",
       "<tr>\n",
       "  <th>No. Observations:</th>       <td> 20433</td>       <th>  AIC:               </th>           <td>5.331e+05</td> \n",
       "</tr>\n",
       "<tr>\n",
       "  <th>Df Residuals:</th>           <td> 20429</td>       <th>  BIC:               </th>           <td>5.331e+05</td> \n",
       "</tr>\n",
       "<tr>\n",
       "  <th>Df Model:</th>               <td>     4</td>       <th>                     </th>               <td> </td>     \n",
       "</tr>\n",
       "<tr>\n",
       "  <th>Covariance Type:</th>       <td>nonrobust</td>     <th>                     </th>               <td> </td>     \n",
       "</tr>\n",
       "</table>\n",
       "<table class=\"simpletable\">\n",
       "<tr>\n",
       "           <td></td>             <th>coef</th>     <th>std err</th>      <th>t</th>      <th>P>|t|</th>  <th>[0.025</th>    <th>0.975]</th>  \n",
       "</tr>\n",
       "<tr>\n",
       "  <th>population</th>         <td>  -46.2351</td> <td>    1.644</td> <td>  -28.118</td> <td> 0.000</td> <td>  -49.458</td> <td>  -43.012</td>\n",
       "</tr>\n",
       "<tr>\n",
       "  <th>housing_median_age</th> <td> 1157.5884</td> <td>   65.574</td> <td>   17.653</td> <td> 0.000</td> <td> 1029.057</td> <td> 1286.119</td>\n",
       "</tr>\n",
       "<tr>\n",
       "  <th>households</th>         <td>  155.9229</td> <td>    4.893</td> <td>   31.869</td> <td> 0.000</td> <td>  146.333</td> <td>  165.513</td>\n",
       "</tr>\n",
       "<tr>\n",
       "  <th>longitude</th>          <td>-1352.4438</td> <td>   21.411</td> <td>  -63.167</td> <td> 0.000</td> <td>-1394.410</td> <td>-1310.477</td>\n",
       "</tr>\n",
       "</table>\n",
       "<table class=\"simpletable\">\n",
       "<tr>\n",
       "  <th>Omnibus:</th>       <td>2334.302</td> <th>  Durbin-Watson:     </th> <td>   0.414</td>\n",
       "</tr>\n",
       "<tr>\n",
       "  <th>Prob(Omnibus):</th>  <td> 0.000</td>  <th>  Jarque-Bera (JB):  </th> <td>3213.090</td>\n",
       "</tr>\n",
       "<tr>\n",
       "  <th>Skew:</th>           <td> 0.932</td>  <th>  Prob(JB):          </th> <td>    0.00</td>\n",
       "</tr>\n",
       "<tr>\n",
       "  <th>Kurtosis:</th>       <td> 3.545</td>  <th>  Cond. No.          </th> <td>    167.</td>\n",
       "</tr>\n",
       "</table><br/><br/>Notes:<br/>[1] R² is computed without centering (uncentered) since the model does not contain a constant.<br/>[2] Standard Errors assume that the covariance matrix of the errors is correctly specified."
      ],
      "text/plain": [
       "<class 'statsmodels.iolib.summary.Summary'>\n",
       "\"\"\"\n",
       "                                 OLS Regression Results                                \n",
       "=======================================================================================\n",
       "Dep. Variable:     median_house_value   R-squared (uncentered):                   0.777\n",
       "Model:                            OLS   Adj. R-squared (uncentered):              0.777\n",
       "Method:                 Least Squares   F-statistic:                          1.776e+04\n",
       "Date:                Fri, 11 Nov 2022   Prob (F-statistic):                        0.00\n",
       "Time:                        22:58:56   Log-Likelihood:                     -2.6655e+05\n",
       "No. Observations:               20433   AIC:                                  5.331e+05\n",
       "Df Residuals:                   20429   BIC:                                  5.331e+05\n",
       "Df Model:                           4                                                  \n",
       "Covariance Type:            nonrobust                                                  \n",
       "======================================================================================\n",
       "                         coef    std err          t      P>|t|      [0.025      0.975]\n",
       "--------------------------------------------------------------------------------------\n",
       "population           -46.2351      1.644    -28.118      0.000     -49.458     -43.012\n",
       "housing_median_age  1157.5884     65.574     17.653      0.000    1029.057    1286.119\n",
       "households           155.9229      4.893     31.869      0.000     146.333     165.513\n",
       "longitude          -1352.4438     21.411    -63.167      0.000   -1394.410   -1310.477\n",
       "==============================================================================\n",
       "Omnibus:                     2334.302   Durbin-Watson:                   0.414\n",
       "Prob(Omnibus):                  0.000   Jarque-Bera (JB):             3213.090\n",
       "Skew:                           0.932   Prob(JB):                         0.00\n",
       "Kurtosis:                       3.545   Cond. No.                         167.\n",
       "==============================================================================\n",
       "\n",
       "Notes:\n",
       "[1] R² is computed without centering (uncentered) since the model does not contain a constant.\n",
       "[2] Standard Errors assume that the covariance matrix of the errors is correctly specified.\n",
       "\"\"\""
      ]
     },
     "execution_count": 60,
     "metadata": {},
     "output_type": "execute_result"
    }
   ],
   "source": [
    "columns=[\"population\",\"housing_median_age\",\"households\",\"longitude\"]\n",
    "x2=df[columns]\n",
    "y2=df[\"median_house_value\"]\n",
    "\n",
    "model2=sm.OLS(y2,x2)\n",
    "results2=model2.fit()\n",
    "results2.summary()\n",
    "\n"
   ]
  },
  {
   "cell_type": "markdown",
   "metadata": {},
   "source": [
    "&#9989;  **Question 2.10 (4 points)**: **Answer This:** How did your reduced linear model fit the data compared to the full linear model you created in Question 3.4? Give some quantitative justification for this answer."
   ]
  },
  {
   "cell_type": "markdown",
   "metadata": {
    "ExecuteTime": {
     "end_time": "2022-10-30T23:38:58.299059Z",
     "start_time": "2022-10-30T23:38:58.296101Z"
    }
   },
   "source": [
    "I took the four variables with the lowest SE. The R^2 is a little lower, but still high. The skewness is much better and the kurtosis was greatly reduced (still not great). I also lost the multicollinearity error and got the F-stat well above zero. So overall I'd say this model is much better.\n"
   ]
  },
  {
   "cell_type": "markdown",
   "metadata": {},
   "source": [
    "&#9989;  **Question 2.11 (2 points)**: **Answer This:** Now that you have your reduced model, make a heat map showing the correlations between the different variables (similar to what we did on Day 14)."
   ]
  },
  {
   "cell_type": "code",
   "execution_count": 67,
   "metadata": {},
   "outputs": [
    {
     "data": {
      "text/plain": [
       "<AxesSubplot:>"
      ]
     },
     "execution_count": 67,
     "metadata": {},
     "output_type": "execute_result"
    },
    {
     "data": {
      "image/png": "[encoded data removed]",
      "text/plain": [
       "<Figure size 432x288 with 2 Axes>"
      ]
     },
     "metadata": {
      "needs_background": "light"
     },
     "output_type": "display_data"
    }
   ],
   "source": [
    "df1=df[columns]\n",
    "\n",
    "\n",
    "sns.heatmap(df1.corr())"
   ]
  },
  {
   "cell_type": "markdown",
   "metadata": {},
   "source": [
    "&#9989;  **Question 2.12 (4 points)**: **Answer This:** You should find that there isn’t much overlap between the high-correlation variables in the heat map and the variables you used in your (reduced)  model, the opposite of what we found on Day 14. Explain why this is the case."
   ]
  },
  {
   "cell_type": "markdown",
   "metadata": {
    "ExecuteTime": {
     "end_time": "2022-10-30T23:45:57.214856Z",
     "start_time": "2022-10-30T23:45:57.212037Z"
    }
   },
   "source": [
    "The variables here don't correlate very highly to each other, because we took out the variables cause multicollinearity\n"
   ]
  },
  {
   "cell_type": "markdown",
   "metadata": {},
   "source": [
    "---\n",
    "### &#128721; STOP\n",
    "**Pause to commit your changes to your Git repository! (2 points)**\n",
    "\n",
    "Take a moment to save your notebook, commit the changes to your local `git` repository using the commit message \"Part 3 complete\" "
   ]
  },
  {
   "cell_type": "markdown",
   "metadata": {},
   "source": [
    "---\n",
    "<a id=\"part3\"></a>\n",
    "[Back to ToC](#toc)\n",
    "\n",
    "## Part 3. Logistic Regression (25 points)\n",
    "\n",
    "In this part of the homework, you will work with data from an unknown source. Our goal is to use logistic regression to identify who is more likely to buy merchandise from ads on social networks."
   ]
  },
  {
   "cell_type": "markdown",
   "metadata": {},
   "source": [
    "&#9989;  **Question 3.1 (4 points)**: \n",
    "\n",
    "1. **Do This:** Download the dataset and write the command you used in the next cell\n",
    "\n",
    "`https://raw.githubusercontent.com/msu-cmse-courses/cmse202-F22-data/main/HW/Homework_4/ads.csv`\n",
    "    \n",
    "2. **Do This:** Load the data in this file into a `Pandas` dataframe\n",
    "3. **Do This:** Display the first **five** rows of the dataframe. "
   ]
  },
  {
   "cell_type": "code",
   "execution_count": null,
   "metadata": {
    "ExecuteTime": {
     "end_time": "2022-10-30T23:21:26.201075Z",
     "start_time": "2022-10-30T23:21:25.406158Z"
    }
   },
   "outputs": [],
   "source": [
    "# Put the command to download the data here \n"
   ]
  },
  {
   "cell_type": "code",
   "execution_count": null,
   "metadata": {
    "ExecuteTime": {
     "end_time": "2022-10-30T23:18:35.885506Z",
     "start_time": "2022-10-30T23:18:10.892Z"
    }
   },
   "outputs": [],
   "source": [
    "# Put your code for reading in the dataset here\n"
   ]
  },
  {
   "cell_type": "markdown",
   "metadata": {},
   "source": [
    "As you can see the dataset has only few columns. The first columns is not useful since it is a unique identifier. The second column could be useful, however, we need numbers instead of strings. Hence we are left only with the last three columns. `Age` and `EstimatedSalary` will be our features while `Purchased` will be our labels \n",
    "\n",
    "&#9989;  **Question 3.2 (3 points)**: \n",
    "\n",
    "1. **Do This:** Drop the first and second columns of the dataset    \n",
    "2. **Do This:** Divided the rest of the dataset into a train and a test dataset using `train_test_split` function of `scikit-learn`. The test dataset should be 25% of the original data\n"
   ]
  },
  {
   "cell_type": "code",
   "execution_count": null,
   "metadata": {
    "ExecuteTime": {
     "end_time": "2022-10-30T23:21:35.513335Z",
     "start_time": "2022-10-30T23:21:35.511358Z"
    }
   },
   "outputs": [],
   "source": [
    "# Put your code here\n"
   ]
  },
  {
   "cell_type": "markdown",
   "metadata": {},
   "source": [
    "&#9989;  **Question 3.3 (4 points)**: \n",
    "\n",
    "1. **Do This:** Use the `Logit` class to perform Logistic regression on your training dataset (don't forget to add the constant).\n",
    "2. **Do This:** Print the results of your model\n"
   ]
  },
  {
   "cell_type": "code",
   "execution_count": 14,
   "metadata": {
    "ExecuteTime": {
     "end_time": "2022-10-30T23:21:38.116639Z",
     "start_time": "2022-10-30T23:21:38.114737Z"
    }
   },
   "outputs": [],
   "source": [
    "# Put your code here"
   ]
  },
  {
   "cell_type": "markdown",
   "metadata": {},
   "source": [
    "&#9989;  **Question 3.4 (2 points)**: Do you think this is a good fit? Explain your answer\n"
   ]
  },
  {
   "cell_type": "markdown",
   "metadata": {
    "ExecuteTime": {
     "end_time": "2022-10-30T23:07:50.386469Z",
     "start_time": "2022-10-30T23:07:50.383512Z"
    }
   },
   "source": [
    "     Write your answer here"
   ]
  },
  {
   "cell_type": "markdown",
   "metadata": {},
   "source": [
    "&#9989;  **Question 3.5 (4 points)**: Use the above model to make predictions on the test dataset. Remember that the `Logit` model returns continuous values from 0 to 1 while you need two discrete values. Then use the function `accuracy_score` from `scikit-learn` to see how good your model is."
   ]
  },
  {
   "cell_type": "code",
   "execution_count": null,
   "metadata": {
    "ExecuteTime": {
     "end_time": "2022-10-30T23:27:09.878792Z",
     "start_time": "2022-10-30T23:27:09.876840Z"
    }
   },
   "outputs": [],
   "source": [
    "# Put your code here"
   ]
  },
  {
   "cell_type": "markdown",
   "metadata": {
    "ExecuteTime": {
     "end_time": "2022-10-30T23:17:28.231342Z",
     "start_time": "2022-10-30T23:17:28.226529Z"
    }
   },
   "source": [
    "&#9989;  **Question 3.6 (1 point)**: Does the accuracy score change your opinion of the goodness of your model?\n"
   ]
  },
  {
   "cell_type": "markdown",
   "metadata": {},
   "source": [
    "    write your answer here"
   ]
  },
  {
   "cell_type": "markdown",
   "metadata": {},
   "source": [
    "&#9989;  **Question 3.7 (5 points)**: Does your model improve if you re-introduce the `Gender` column? Since the column is made of strings, replace `Male` with 0 and `Female` with 1. Is `Gender` an informative feature?\n",
    "Explain your answers"
   ]
  },
  {
   "cell_type": "code",
   "execution_count": null,
   "metadata": {
    "ExecuteTime": {
     "end_time": "2022-10-30T23:30:12.717649Z",
     "start_time": "2022-10-30T23:30:12.715499Z"
    }
   },
   "outputs": [],
   "source": [
    "# Put your code here"
   ]
  },
  {
   "cell_type": "markdown",
   "metadata": {
    "ExecuteTime": {
     "end_time": "2022-10-30T23:46:47.422571Z",
     "start_time": "2022-10-30T23:46:47.419408Z"
    }
   },
   "source": [
    "---\n",
    "### &#128721; STOP\n",
    "**Pause to commit your changes to your Git repository! (2 points)**\n",
    "\n",
    "Take a moment to save your notebook, commit the changes to your local `git` repository using the commit message \"Part 4 complete\" \n",
    "\n",
    "---"
   ]
  },
  {
   "cell_type": "markdown",
   "metadata": {},
   "source": [
    "## Part 4. Finishing up (3 points)\n",
    "\n",
    "\n",
    "It is now time to merge your changes to the main branch and push"
   ]
  },
  {
   "cell_type": "markdown",
   "metadata": {},
   "source": [
    "&#9989; **Question 4.1 (1 point):** Switch to your main branch\n",
    "\n",
    "```bash\n",
    "# Put the command(s) to switch to your main branch\n",
    "```"
   ]
  },
  {
   "cell_type": "markdown",
   "metadata": {},
   "source": [
    "&#9989; **Question 4.2 (1 point):** Merge your `hw04-branch`\n",
    "\n",
    "```bash\n",
    "# Put the command(s) to merge your branch\n",
    "```"
   ]
  },
  {
   "cell_type": "markdown",
   "metadata": {},
   "source": [
    "&#9989; **Question 4.3 (1 point):** Finally push the changes to GitHub\n",
    "\n",
    "```bash\n",
    "# Put the command(s) to push your new main branch\n",
    "```"
   ]
  },
  {
   "cell_type": "markdown",
   "metadata": {},
   "source": [
    "---\n",
    "## Assignment wrap-up\n",
    "\n",
    "Please fill out the form that appears when you run the code below.  **You must completely fill this out in order to receive credit for the assignment!**"
   ]
  },
  {
   "cell_type": "code",
   "execution_count": null,
   "metadata": {
    "ExecuteTime": {
     "end_time": "2022-11-01T13:00:31.302718Z",
     "start_time": "2022-11-01T13:00:31.294856Z"
    },
    "collapsed": true,
    "jupyter": {
     "outputs_hidden": true
    },
    "tags": []
   },
   "outputs": [],
   "source": [
    "from IPython.display import HTML\n",
    "HTML(\n",
    "\"\"\"\n",
    "<iframe \n",
    "\tsrc=\"https://forms.office.com/r/TMrrP0WnVM\" \n",
    "\twidth=\"800px\" \n",
    "\theight=\"600px\" \n",
    "\tframeborder=\"0\" \n",
    "\tmarginheight=\"0\" \n",
    "\tmarginwidth=\"0\">\n",
    "\tLoading...\n",
    "</iframe>\n",
    "\"\"\"\n",
    ")"
   ]
  },
  {
   "cell_type": "markdown",
   "metadata": {},
   "source": [
    "Submit this assignment by uploading it to the course Desire2Learn web page.  Go to the \"Homework Assignments\" folder, find the dropbox link for Homework #4, and upload it there."
   ]
  },
  {
   "cell_type": "markdown",
   "metadata": {},
   "source": [
    "&#169; Copyright 2022,  Department of Computational Mathematics, Science and Engineering at Michigan State University"
   ]
  }
 ],
 "metadata": {
  "kernelspec": {
   "display_name": "Python 3",
   "language": "python",
   "name": "python3"
  },
  "language_info": {
   "codemirror_mode": {
    "name": "ipython",
    "version": 3
   },
   "file_extension": ".py",
   "mimetype": "text/x-python",
   "name": "python",
   "nbconvert_exporter": "python",
   "pygments_lexer": "ipython3",
   "version": "3.8.8"
  },
  "latex_envs": {
   "LaTeX_envs_menu_present": true,
   "autoclose": false,
   "autocomplete": true,
   "bibliofile": "biblio.bib",
   "cite_by": "apalike",
   "current_citInitial": 1,
   "eqLabelWithNumbers": true,
   "eqNumInitial": 1,
   "hotkeys": {
    "equation": "Ctrl-E",
    "itemize": "Ctrl-I"
   },
   "labels_anchors": false,
   "latex_user_defs": false,
   "report_style_numbering": false,
   "user_envs_cfg": false
  },
  "toc": {
   "base_numbering": 1,
   "nav_menu": {},
   "number_sections": true,
   "sideBar": true,
   "skip_h1_title": false,
   "title_cell": "Table of Contents",
   "title_sidebar": "Contents",
   "toc_cell": false,
   "toc_position": {},
   "toc_section_display": true,
   "toc_window_display": false
  },
  "widgets": {
   "application/vnd.jupyter.widget-state+json": {
    "state": {},
    "version_major": 2,
    "version_minor": 0
   }
  }
 },
 "nbformat": 4,
 "nbformat_minor": 4
}
