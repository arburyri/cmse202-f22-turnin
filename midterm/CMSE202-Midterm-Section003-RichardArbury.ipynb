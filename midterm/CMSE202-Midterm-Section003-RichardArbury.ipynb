{
 "cells": [
  {
   "cell_type": "markdown",
   "metadata": {
    "pycharm": {
     "name": "#%% md\n"
    }
   },
   "source": [
    "### <p style=\"text-align: right;\"> &#9989; Richard Arbury</p>\n",
    "### <p style=\"text-align: right;\"> &#9989; arburyri</p>"
   ]
  },
  {
   "cell_type": "markdown",
   "metadata": {
    "pycharm": {
     "name": "#%% md\n"
    }
   },
   "source": [
    "# CMSE 202 Midterm (Section 003 - Fall 2022)\n",
    "\n",
    "The goal of this midterm is to give you the opportunity to test out some of the skills that you've developed thus far this semester. In particular, you'll practice setting up a GitHub repository, committing and pushing repository changes, downloading data with command line tools, performing some data analysis, possibly using a new Python package, and writing a python class. You should find that you have all of the skills necessary to complete this exam with even just eight weeks of CMSE 202 under your belt!\n",
    "\n",
    "You are encouraged to look through the entire exam before you get started so that you can appropriately budget your time and understand the broad goals of the exam. Once you've read through it, **try doing Part 1 first so that you have your repository set up and you download all necessary data files as they will be necessary to complete the assigned tasks. Let your instructor know right away if you have problems downloading the data!**\n",
    "\n",
    "The exam is set up so that even if you get stuck on one part there are opportunities to get points on the other parts, so consider jumping ahead if you feel like you aren't making progress and then come back later if you have time.\n",
    "\n",
    "**Important note about using online resources**: This exam is \"open internet\". That means that you can look up documentation, google how to accomplish certain Python tasks, etc. Being able to effectively use the internet for computational modeling and data science is a very important skill, so we want to make sure you have the opportunity to exercise that skill. **However**: The use of any person-to-person communication software is absolutely not acceptable. If you are seen accessing your email, using a chat program (e.g. Slack), or any sort of collaborative cloud storage or document software (e.g. Google Documents), you will be at risk for receiving a zero on the exam.\n",
    "\n",
    "**Keep your eyes on your screen!** Unfortunately, there isn't enough space in the room for everyone to sit at their own table so please do your best to keep your eyes on your own screen. This exam is designed to give *you* the opportunity to show the instructor what you can do and you should hold yourself accountable for maintaining a high level of academic integrity. If any of the instructors observe suspicious behavior, you will, again, risk receiving a zero.\n"
   ]
  },
  {
   "cell_type": "markdown",
   "metadata": {
    "pycharm": {
     "name": "#%% md\n"
    }
   },
   "source": [
    "![Moira](https://media.giphy.com/media/26gs78HRO8sOuhTkQ/giphy.gif)"
   ]
  },
  {
   "cell_type": "markdown",
   "metadata": {
    "pycharm": {
     "name": "#%% md\n"
    }
   },
   "source": [
    "---\n",
    "# &#128721; READ EVERYTHING CAREFULLY"
   ]
  },
  {
   "cell_type": "code",
   "execution_count": 1,
   "metadata": {
    "ExecuteTime": {
     "end_time": "2022-10-13T16:00:39.136984Z",
     "start_time": "2022-10-13T16:00:38.570059Z"
    }
   },
   "outputs": [
    {
     "name": "stdout",
     "output_type": "stream",
     "text": [
      "Using matplotlib backend: agg\n",
      "Populating the interactive namespace from numpy and matplotlib\n"
     ]
    },
    {
     "name": "stderr",
     "output_type": "stream",
     "text": [
      "/opt/anaconda3/lib/python3.8/site-packages/scipy/__init__.py:138: UserWarning: A NumPy version >=1.16.5 and <1.23.0 is required for this version of SciPy (detected version 1.23.3)\n",
      "  warnings.warn(f\"A NumPy version >={np_minversion} and <{np_maxversion} is required for this version of \"\n"
     ]
    }
   ],
   "source": [
    "# RUN THIS CELL \n",
    "%pylab\n",
    "%matplotlib inline\n",
    "\n",
    "import pandas as pd\n",
    "import seaborn as sns\n",
    "\n",
    "sns.set_context(\"talk\")"
   ]
  },
  {
   "cell_type": "markdown",
   "metadata": {},
   "source": [
    "<a id=\"toc\"></a>\n",
    "\n",
    "## Table of contents\n",
    "\n",
    "0. [Part 0: Academic Integrity](#part0) (1 point)\n",
    "    \n",
    "1. [Part 1: Git and CLI](#part1) (9 points)\n",
    "\n",
    "2. [Part 2: Data cleaning](#part2) (28 points)\n",
    "\n",
    "3. [Part 3: Python package](#part3) (10 points)\n",
    "\n",
    "4. [Part 4: Object-Oriented Programming](#part4) (30 points)\n",
    "\n",
    "5. [Part 5: Conclusion](#part5) (3 points)\n"
   ]
  },
  {
   "cell_type": "code",
   "execution_count": 2,
   "metadata": {
    "ExecuteTime": {
     "end_time": "2022-10-13T16:29:04.746703Z",
     "start_time": "2022-10-13T16:29:04.744095Z"
    }
   },
   "outputs": [
    {
     "name": "stdout",
     "output_type": "stream",
     "text": [
      "The maximum number of points is: 81\n"
     ]
    }
   ],
   "source": [
    "grades = [part_0, part_1, part_2, part_3, part_4, part_5 ] = [1, 9, 28, 10, 30, 3]\n",
    "\n",
    "final_grade = sum(grades)\n",
    "\n",
    "print(f\"The maximum number of points is: {final_grade}\")\n"
   ]
  },
  {
   "cell_type": "markdown",
   "metadata": {
    "pycharm": {
     "name": "#%% md\n"
    }
   },
   "source": [
    "---\n",
    "<a id=\"part0\"></a>\n",
    "[Back to ToC](#toc)\n",
    "\n",
    "# Part 0: Academic integrity statement (1 point)\n",
    "\n",
    "Read the following statement and edit the markdown text to put your name in the statement. This is your commitment to doing your own authentic work on this exam."
   ]
  },
  {
   "cell_type": "markdown",
   "metadata": {
    "pycharm": {
     "name": "#%% md\n"
    }
   },
   "source": [
    "> I, **INSERT NAME HERE**, affirm that this exam represents my own authetic work, without the use of any unpermitted aids or resources or person-to-person communication. I understand that this exam an an opportunity to showcase my own progress in developing and improving my computational skills and have done my best to demonstrate those skills."
   ]
  },
  {
   "cell_type": "markdown",
   "metadata": {
    "pycharm": {
     "name": "#%% md\n"
    }
   },
   "source": [
    "---\n",
    "<a id=\"part1\"></a>\n",
    "[Back to ToC](#toc)\n",
    "\n",
    "# Part 1: Git and Command Line Interface (9 points)\n",
    "\n",
    "Before you get to far along in the exam, you're going to add it to the `cmse202-s22-turnin` repository you created in class so that you can track your progress on the exam and preserve the final version that you turn in. \n"
   ]
  },
  {
   "cell_type": "markdown",
   "metadata": {
    "pycharm": {
     "name": "#%% md\n"
    }
   },
   "source": [
    "---\n",
    "**&#9989; **Question 1.1 (1 point)**** Navigate to your `cmse202-f22-turnin` repository and create a new directory called `midterm`. \n",
    "\n",
    "```\n",
    "mkdir midterm\n",
    "```"
   ]
  },
  {
   "cell_type": "markdown",
   "metadata": {
    "pycharm": {
     "name": "#%% md\n"
    }
   },
   "source": [
    "---\n",
    "&#9989; **Question 1.2 (3 points)** Check the status of `git` .\n",
    "\n",
    "``` \n",
    "git status\n",
    "```\n",
    "\n",
    "Copy and paste below the output of the command.\n",
    "\n",
    "```\n",
    "\"Your Branch is up to date with orgin\"\n",
    "```\n",
    "\n",
    "What is the name of the branch you are in ? \n",
    "\n",
    "```\n",
    "git branch      \"main\"\n",
    "```\n",
    "\n",
    "**Important:** If you are not in the `main` branch change to your `main` branch. \n",
    "\n",
    "Once in the main branch move this notebook into that **new directory** in your repository."
   ]
  },
  {
   "cell_type": "markdown",
   "metadata": {
    "pycharm": {
     "name": "#%% md\n"
    }
   },
   "source": [
    "---\n",
    "&#9989; **Question 1.3 (3 points):**\n",
    "Add your name and GitHub username to the top of the notebook, then add and commit **ONLY** the notebook.\n",
    "\n",
    "```\n",
    "Put the command(s) to add and commit here \n",
    "```\n",
    "\n",
    "What is the commit message you used ?\n",
    "\n",
    "```\n",
    "Answer the question here\n",
    "```"
   ]
  },
  {
   "cell_type": "markdown",
   "metadata": {
    "pycharm": {
     "name": "#%% md\n"
    }
   },
   "source": [
    "---\n",
    "&#9989; **Question 1.4 (1 point):** Before moving on. Check that the notebook you are working on is the correct one. Run the following cell. **Are you in the new folder you just created?** If not close this notebook and open the one in the midterm folder\n"
   ]
  },
  {
   "cell_type": "code",
   "execution_count": 3,
   "metadata": {
    "ExecuteTime": {
     "end_time": "2022-10-13T16:00:43.042311Z",
     "start_time": "2022-10-13T16:00:42.888368Z"
    },
    "pycharm": {
     "name": "#%%\n"
    }
   },
   "outputs": [
    {
     "name": "stdout",
     "output_type": "stream",
     "text": [
      "/home/silves28/Teaching/FALL22/CMSE202_003/Exams/Midterm\r\n"
     ]
    }
   ],
   "source": [
    "!pwd"
   ]
  },
  {
   "cell_type": "markdown",
   "metadata": {
    "pycharm": {
     "name": "#%% md\n"
    }
   },
   "source": [
    "---\n",
    "&#9989; **Question 1.5 (1 point):**\n",
    "Finally push the updated repo to GitHub.\n",
    "\n",
    "```\n",
    "Put the command you used to push to GitHub here.\n",
    "```\n"
   ]
  },
  {
   "cell_type": "markdown",
   "metadata": {
    "pycharm": {
     "name": "#%% md\n"
    }
   },
   "source": [
    "---\n",
    "<a id=\"part2\"></a>\n",
    "[Back to ToC](#toc)\n",
    "\n",
    "# Part 2: Downloading and analyzing unfamiliar data (28 points)\n",
    "\n",
    "For this part of the exam, you're to download and analyze a dataset that you've likely not looked at before. You'll perform some simple, exploratorary analysis and create basic visualizations."
   ]
  },
  {
   "cell_type": "markdown",
   "metadata": {
    "pycharm": {
     "name": "#%% md\n"
    }
   },
   "source": [
    "In particular, you're going to be working with a dataset that contains data on the US energy consumption and production. \n",
    "\n",
    "Download the file from D2L\n",
    "\n"
   ]
  },
  {
   "cell_type": "markdown",
   "metadata": {
    "pycharm": {
     "name": "#%% md\n"
    }
   },
   "source": [
    "&#9989; **Question 2.1 (3 points)**: To get started, **read in the `energy_dataset.xlsx` dataset**. \n",
    "Do this\n",
    "\n",
    "1. Use the [`read_excel`](https://pandas.pydata.org/docs/reference/api/pandas.read_excel.html) function in `pandas` and *skip the first 10 rows*\n",
    "\n",
    "2. print the first 5 rows \n",
    "\n"
   ]
  },
  {
   "cell_type": "code",
   "execution_count": 4,
   "metadata": {
    "ExecuteTime": {
     "end_time": "2022-10-13T16:00:46.782503Z",
     "start_time": "2022-10-13T16:00:46.780471Z"
    },
    "pycharm": {
     "name": "#%%\n"
    }
   },
   "outputs": [],
   "source": [
    "# Put your code here"
   ]
  },
  {
   "cell_type": "markdown",
   "metadata": {},
   "source": [
    "&#9989; **Question 2.2 (1 point)**: Print the `info` of the dataset"
   ]
  },
  {
   "cell_type": "code",
   "execution_count": null,
   "metadata": {
    "ExecuteTime": {
     "end_time": "2022-10-13T06:13:42.022646Z",
     "start_time": "2022-10-13T06:13:42.020509Z"
    }
   },
   "outputs": [],
   "source": [
    "# Put your code here"
   ]
  },
  {
   "cell_type": "markdown",
   "metadata": {},
   "source": [
    "&#9989; **Question 2.2.1 (3 points)**: Looking at the above outputs, answer the following questions: \n",
    "\n",
    "1. What are the types of the values in the dataset?\n",
    "2. How many rows of data does the dataset contain ? \n",
    "3. How many columns of data does the dataset contain ? "
   ]
  },
  {
   "cell_type": "markdown",
   "metadata": {},
   "source": [
    "**<font size=+3>&#9998;</font> Do This**: *Record your answers here.*\n",
    "\n"
   ]
  },
  {
   "cell_type": "markdown",
   "metadata": {},
   "source": [
    "&#9989; **Question 2.3 (3 points)**: The reason `pandas` does not see numbers is because of the first line (or row) of data. As you can see that line is just (Quadrillion Btu). Let's remove it."
   ]
  },
  {
   "cell_type": "code",
   "execution_count": 9,
   "metadata": {
    "ExecuteTime": {
     "end_time": "2022-10-13T16:01:23.687558Z",
     "start_time": "2022-10-13T16:01:23.685852Z"
    }
   },
   "outputs": [],
   "source": [
    "# Put your code here to drop the entire first line\n"
   ]
  },
  {
   "cell_type": "markdown",
   "metadata": {},
   "source": [
    "&#9989; **Question 2.4 (3 points)**: We have too many columns, `drop` the following columns from the dataset.\n",
    "\n",
    "    Total Primary Energy Production, Total Primary Energy Consumption\n",
    "    "
   ]
  },
  {
   "cell_type": "code",
   "execution_count": 11,
   "metadata": {
    "ExecuteTime": {
     "end_time": "2022-10-13T16:01:26.136154Z",
     "start_time": "2022-10-13T16:01:26.134169Z"
    }
   },
   "outputs": [],
   "source": [
    "# Put your code here"
   ]
  },
  {
   "cell_type": "markdown",
   "metadata": {
    "ExecuteTime": {
     "end_time": "2022-10-12T14:25:24.832836Z",
     "start_time": "2022-10-12T14:25:24.830842Z"
    }
   },
   "source": [
    "&#9989; **Question 2.5 (4 points)**: Do the following in the same order as they are shown\n",
    "\n",
    "1. set the column `\"Month\"` as the index of the dataset\n",
    "2. use the [`astype`](https://pandas.pydata.org/docs/reference/api/pandas.DataFrame.astype.html) **method** to convert the \"object\" types into `np.float64`\n",
    "\n",
    "__NOTE:__ I said **method** not function! Also the `astype` method does not have an `inplace` option."
   ]
  },
  {
   "cell_type": "code",
   "execution_count": 13,
   "metadata": {
    "ExecuteTime": {
     "end_time": "2022-10-13T16:01:28.041608Z",
     "start_time": "2022-10-13T16:01:28.039660Z"
    }
   },
   "outputs": [],
   "source": [
    "# Put your code here\n",
    "\n",
    "# set new index\n",
    "\n",
    "# change the type"
   ]
  },
  {
   "cell_type": "markdown",
   "metadata": {
    "ExecuteTime": {
     "end_time": "2022-10-12T14:25:27.100803Z",
     "start_time": "2022-10-12T14:25:26.671467Z"
    }
   },
   "source": [
    "&#9989; **Question 2.6 (1 point)**: Let's look at some correlations. Print the correlation matrix for this dataset\n"
   ]
  },
  {
   "cell_type": "code",
   "execution_count": 29,
   "metadata": {
    "ExecuteTime": {
     "end_time": "2022-10-13T16:26:31.304054Z",
     "start_time": "2022-10-13T16:26:31.302057Z"
    }
   },
   "outputs": [],
   "source": [
    "# Put your code here"
   ]
  },
  {
   "cell_type": "markdown",
   "metadata": {
    "pycharm": {
     "name": "#%% md\n"
    }
   },
   "source": [
    "&#9989; **Question 2.6.1 (3 points)**: Looking at the above output, answer the following questions: \n",
    "\n",
    "1. Which column is most positively correlated with **Primary Energy Stock Change and Other** ?\n",
    "2. What does it mean for two columns to be positively correlated ?\n",
    "2. Why do you think the **Nuclear Production** column is so highly correlated with **Nuclear Consumption**?"
   ]
  },
  {
   "cell_type": "markdown",
   "metadata": {
    "pycharm": {
     "name": "#%% md\n"
    }
   },
   "source": [
    "**<font size=+3>&#9998;</font> Do This**: *Record your answers here.*\n",
    "\n"
   ]
  },
  {
   "cell_type": "markdown",
   "metadata": {},
   "source": [
    "&#9989; **Question 2.7 (3 points)**: Let's make another plot! Plot the `Primary Energy Net Imports` vs. `Month`. \n",
    "The size of the figure should be (10,7) so that it is easier to see\n"
   ]
  },
  {
   "cell_type": "code",
   "execution_count": null,
   "metadata": {
    "ExecuteTime": {
     "end_time": "2022-10-13T05:56:26.141992Z",
     "start_time": "2022-10-13T05:56:26.140138Z"
    }
   },
   "outputs": [],
   "source": [
    "# Put your code here"
   ]
  },
  {
   "cell_type": "markdown",
   "metadata": {},
   "source": [
    "&#9989; **Question 2.7.1 (3 points)**: The above plot shows the difference between USA's imports and exports. When did the USA become a primary exporter? That is, what is the month and year in which the line above becomes negative? This requires some code, maybe masking?"
   ]
  },
  {
   "cell_type": "code",
   "execution_count": null,
   "metadata": {
    "ExecuteTime": {
     "end_time": "2022-10-12T19:47:49.285227Z",
     "start_time": "2022-10-12T19:47:49.283157Z"
    },
    "pycharm": {
     "name": "#%% md\n"
    }
   },
   "outputs": [],
   "source": [
    "# Put your code here"
   ]
  },
  {
   "cell_type": "markdown",
   "metadata": {
    "ExecuteTime": {
     "end_time": "2022-10-12T19:44:20.954267Z",
     "start_time": "2022-10-12T19:44:20.951255Z"
    }
   },
   "source": [
    "**<font size=+3>&#9998;</font> Do This**: *Record your answers here.*\n",
    "\n"
   ]
  },
  {
   "cell_type": "markdown",
   "metadata": {
    "pycharm": {
     "name": "#%% md\n"
    }
   },
   "source": [
    "\n",
    "### &#128721; STOP\n",
    "**Pause to commit your changes to your local `git` repository! (1 point)**\n",
    "\n",
    "Take a moment to save your notebook, commit the changes to your local `git` repository using the commit message \"**Committing Part 2**\"."
   ]
  },
  {
   "cell_type": "markdown",
   "metadata": {
    "pycharm": {
     "name": "#%% md\n"
    }
   },
   "source": [
    "---\n",
    "<a id=\"part3\"></a>\n",
    "[Back to ToC](#toc)\n",
    "\n",
    "# Part 3: Exploring a familiar Python package (10 points)\n",
    "\n",
    "In this part of the exam you will need to review a bit of documentation from a Python package that you've explored a bit this semester.\n",
    "\n",
    "<img src=https://physicstoday.scitation.org/na101/home/literatum/publisher/aip/journals/content/pto/2009/pto.2009.62.issue-8/1.3206091/production/images/medium/1.3206091.figures.f6.gif width = 400px>"
   ]
  },
  {
   "cell_type": "markdown",
   "metadata": {
    "pycharm": {
     "name": "#%% md\n"
    }
   },
   "source": [
    "&#9989; **Question 3.1 (1 point)**: Download the data from the link below.\n",
    "\n",
    "    https://raw.githubusercontent.com/msu-cmse-courses/cmse202-F22-data/main/Midterm/psi.dat"
   ]
  },
  {
   "cell_type": "code",
   "execution_count": null,
   "metadata": {
    "ExecuteTime": {
     "end_time": "2022-10-12T19:33:42.550600Z",
     "start_time": "2022-10-12T19:33:40.015Z"
    },
    "pycharm": {
     "name": "#%%\n"
    }
   },
   "outputs": [],
   "source": [
    "# Put the command here to download the data\n"
   ]
  },
  {
   "cell_type": "markdown",
   "metadata": {
    "pycharm": {
     "name": "#%% md\n"
    }
   },
   "source": [
    "&#9989; **Question 3.2 (1 point)**: Read the data using the [`loadtxt`](https://numpy.org/doc/stable/reference/generated/numpy.loadtxt.html) from `numpy`"
   ]
  },
  {
   "cell_type": "markdown",
   "metadata": {},
   "source": [
    "&#9989; **Question 3.3 (2 points)**: Create a 2D array of size (100, 200) from the one above by using the **method** [`reshape`](https://numpy.org/doc/stable/reference/generated/numpy.ndarray.reshape.html) of the `numpy` array\n",
    "\n",
    "__IMPORTANT:__ I said **method** not function!"
   ]
  },
  {
   "cell_type": "code",
   "execution_count": null,
   "metadata": {
    "ExecuteTime": {
     "end_time": "2022-10-12T19:33:42.552783Z",
     "start_time": "2022-10-12T19:33:40.024Z"
    }
   },
   "outputs": [],
   "source": [
    "# Put your code here"
   ]
  },
  {
   "cell_type": "markdown",
   "metadata": {},
   "source": [
    "&#9989; **Question 3.3 (4 points)**: Using the [`contourf`](https://matplotlib.org/stable/api/_as_gen/matplotlib.axes.Axes.contourf.html) and [`contour`](https://matplotlib.org/stable/api/_as_gen/matplotlib.axes.Axes.contour.html) functions of `matplotlib` to make a plot of the data.\n",
    "\n",
    "1. The plot must show at least 10 contours (or levels)\n",
    "\n",
    "2. The lines showing the contours should be colored black\n",
    "\n",
    "Complete the code below to make the plot. You might want to google \"contourf\" to find examples of the contour plots."
   ]
  },
  {
   "cell_type": "code",
   "execution_count": null,
   "metadata": {
    "ExecuteTime": {
     "end_time": "2022-10-12T19:33:42.554161Z",
     "start_time": "2022-10-12T19:33:40.029Z"
    }
   },
   "outputs": [],
   "source": [
    "# Complete this part\n",
    "\n",
    "fig, ax = plt.subplots(1,1, figsize = (10,10))\n",
    "\n",
    "cpf = # Make a filled contour plot of the data with 10 levels\n",
    "\n",
    "cp = # Plot the contours of the plot above and make the color of the levels black\n",
    "\n",
    "ax.clabel(cp, fontsize = 12)\n",
    "plt.show()"
   ]
  },
  {
   "cell_type": "markdown",
   "metadata": {},
   "source": [
    "&#9989; **Question 3.4 (1 point)**: What is the value of the most yellow (yellowest ?) region. Note that it is the only contour withouth a value."
   ]
  },
  {
   "cell_type": "markdown",
   "metadata": {},
   "source": [
    "**<font size=+3>&#9998;</font> Do This**: *Record your answers here.*\n"
   ]
  },
  {
   "cell_type": "markdown",
   "metadata": {
    "pycharm": {
     "name": "#%% md\n"
    }
   },
   "source": [
    "### &#128721; STOP\n",
    "**Pause to commit your changes to your local `git` repository! (1 point)**\n",
    "\n",
    "Take a moment to save your notebook, commit the changes to your local `git` repository using the commit message \"**Committing Part 3**\".\n",
    "\n",
    "---"
   ]
  },
  {
   "cell_type": "markdown",
   "metadata": {
    "pycharm": {
     "name": "#%% md\n"
    }
   },
   "source": [
    "<a id=\"part4\"></a>\n",
    "[Back to ToC](#toc)\n",
    "\n",
    "# Part 4: Object-Oriented Programming (30 points)\n",
    "\n",
    "\n",
    "\n",
    "<img src=https://upload.wikimedia.org/wikipedia/en/1/18/Scroogemoney.jpg  width=400px align=center >"
   ]
  },
  {
   "cell_type": "markdown",
   "metadata": {
    "pycharm": {
     "name": "#%% md\n"
    }
   },
   "source": [
    "&#9989; **Question 4.1 (15 points)**: The following cell contains two classes one represent a bank account and another representing a possible customer. \n",
    "\n",
    "Do the following\n",
    "\n",
    "- complete the `__init__` method of the customer class. This method needs only store the values of the input into three attributes (3 points)\n",
    "\n",
    "\n",
    "- complete the `withdraw` method. This method takes in `amount` (a float) checks whether there are enough money in the account. If the `amount` to be withdrawn is more than the `total_amount` then it prints the message `Nope! You ain't got enough money` and returns `False`. Otherwise it substract `amount` from the `total_amount` and returns `True`. (6 points)\n",
    "\n",
    "\n",
    "- write a new method called `transfer_to` for transfering money to another account. This method takes in two inputs: `money` and `other_account`. The method withdraws `money` from the current account and deposits them into `other_account`. Make sure not to deposit money in `other_account` if there aren't enough money. Below is the docstring for this method. (6 points)\n",
    "\n",
    "        \"\"\"Transfer money to another account if there are enough money.\n",
    "        \n",
    "        Parameters\n",
    "        ----------\n",
    "        money : float\n",
    "            Amount of money to transfer.\n",
    "        \n",
    "        account : object\n",
    "            Instance Account class where to transfer money.\n",
    "        \"\"\"\n",
    "    "
   ]
  },
  {
   "cell_type": "code",
   "execution_count": 22,
   "metadata": {
    "ExecuteTime": {
     "end_time": "2022-10-13T16:06:20.589928Z",
     "start_time": "2022-10-13T16:06:20.585291Z"
    },
    "code_folding": [],
    "pycharm": {
     "name": "#%%\n"
    }
   },
   "outputs": [],
   "source": [
    "# Put your code here\n",
    "class Customer:\n",
    "    \"\"\"Customer class. It is used to keep track of customers'data\n",
    "    \n",
    "    Attributes\n",
    "    ----------\n",
    "    name: string\n",
    "        customer's name. first and last name\n",
    "    \n",
    "    address: string\n",
    "        Email address where to reach the customer.\n",
    "    \n",
    "    ssn: string\n",
    "        Social Security number of the customer.\n",
    "    \"\"\"\n",
    "    \n",
    "    def __init__(self, name, address, ssn):\n",
    "        \"\"\" Initialize the customer with their data.\n",
    "        \n",
    "        Parameters\n",
    "        ----------\n",
    "        name: string\n",
    "            customer's name. first and last name\n",
    "    \n",
    "        address: string\n",
    "            Email address where to reach the customer.\n",
    "    \n",
    "        ssn: string\n",
    "            Social Security number of the customer.\n",
    "        \"\"\"\n",
    "        \n",
    "        # Put your code here and remove pass\n",
    "        pass \n",
    "\n",
    "        \n",
    "class Account:\n",
    "    \"\"\"Bank Account class. \n",
    "    \n",
    "    Attributes\n",
    "    ----------\n",
    "    \n",
    "    number: string\n",
    "        account number.\n",
    "    \n",
    "    atype: string\n",
    "        type of account. Savings or Checking.\n",
    "    \n",
    "    amount: float\n",
    "        Amount of money.\n",
    "    \n",
    "    \"\"\"\n",
    "    \n",
    "    def __init__(self, number, owner, acct_type, initial_amount = 0.0):\n",
    "        \"\"\"Initialize the attributes of the class.\n",
    "        \n",
    "        Parameters\n",
    "        ----------\n",
    "        number : string or integer\n",
    "            Account number.\n",
    "        \n",
    "        owner : object\n",
    "            Account owner. It is an instance of Customer object. \n",
    "           \n",
    "        acct_type: string\n",
    "            Account type. It can be savings or checking.\n",
    "        \n",
    "        initial_amount: float\n",
    "            Initial amount of money in the account.\n",
    "        \n",
    "        \"\"\"\n",
    "        self.number = number\n",
    "        self.atype = acct_type\n",
    "        self.total_amount = initial_amount\n",
    "        \n",
    "        assert isinstance(owner, Customer), \"owner option is not an instance of the Customer class. Try again.\"\n",
    "        self.owner = owner\n",
    "        \n",
    "        \n",
    "    def get_acct_amount(self):\n",
    "        \"\"\"Returns the amount of money in the account.\"\"\"\n",
    "        return self.total_amount\n",
    "    \n",
    "    def print_acct_amount(self):\n",
    "        \"\"\"Print the amount of money in the account.\"\"\"\n",
    "        \n",
    "    def set_acct_number(self, number):\n",
    "        \"\"\"Set the account number.\"\"\"\n",
    "        self.number = number\n",
    "    \n",
    "    def get_acct_number(self):\n",
    "        \"\"\"Returns the number of the account.\"\"\"\n",
    "        return self.number\n",
    "\n",
    "    def deposit(self, amount):\n",
    "        \"\"\"Deposit money into the account amount.\n",
    "        \n",
    "        Parameters\n",
    "        ----------\n",
    "        amount : float\n",
    "            Amount to be deposited.\n",
    "        \n",
    "        \"\"\"\n",
    "        \n",
    "        self.total_amount += amount\n",
    "        \n",
    "    def withdraw(self, amount):\n",
    "        \"\"\"Remove money from the account amount.\n",
    "        \n",
    "        Parameters\n",
    "        ----------\n",
    "        amount : float\n",
    "            Amount to be withdrawn.\n",
    "        \n",
    "        \"\"\"\n",
    "        # Put your code here\n",
    "        pass\n",
    " \n",
    "    \n",
    "    # Put the new method here\n",
    "        "
   ]
  },
  {
   "cell_type": "markdown",
   "metadata": {},
   "source": [
    "## Test your code\n",
    "\n",
    "Let's check that the code works. Run the following cell and you should get the following output\n",
    "\n",
    "        Customer's name is Scrouge McDuck and can be reached at mcducksc21@disney.com\n",
    "        The total amount in the checking account is: 1.00e+06\n",
    "        Nope! You ain't got enough money\n",
    "        The total amount in the checking account is: 8.00e+05\n",
    "        The total amount in the savings account is: 2.00e+05\n",
    "\n",
    "\n",
    "If it throws an error go back and fix the code or move on."
   ]
  },
  {
   "cell_type": "code",
   "execution_count": 34,
   "metadata": {
    "ExecuteTime": {
     "end_time": "2022-10-13T16:33:28.904901Z",
     "start_time": "2022-10-13T16:33:28.900233Z"
    }
   },
   "outputs": [
    {
     "name": "stdout",
     "output_type": "stream",
     "text": [
      "Customer's name is Scrouge McDuck and can be reached at mcducksc21@disney.com\n",
      "The total amount in the checking account is: 1.00e+06\n",
      "Nope! You ain't got enough money\n",
      "The total amount in the checking account is: 8.00e+05\n",
      "The total amount in the savings account is: 2.00e+05\n"
     ]
    }
   ],
   "source": [
    "# Run the following cell to test your code\n",
    "# np.random.seed(12398412)\n",
    "scrooge = Customer(name = \"Scrouge McDuck\", address = \"mcducksc21@disney.com\", ssn = \"123 456 789\")\n",
    "print(f\"Customer's name is {scrooge.name} and can be reached at {scrooge.address}\")\n",
    "\n",
    "\n",
    "check_acct = Account(\n",
    "    number = str(np.random.randint(1295867)),\n",
    "    owner = scrooge,\n",
    "    acct_type = \"checking\"              )\n",
    "\n",
    "check_acct.deposit(1e6)\n",
    "\n",
    "print(f\"The total amount in the checking account is: {check_acct.get_acct_amount():.2e}\")\n",
    "\n",
    "savings_acct = Account(\n",
    "    number = str(np.random.randint(12589879)),\n",
    "    owner = scrooge,\n",
    "    acct_type = \"savings\"              )\n",
    "\n",
    "check_acct.transfer_to(money = 2.0e6, other_account = savings_acct)\n",
    "\n",
    "\n",
    "check_acct.transfer_to(money = 0.2e6, other_account = savings_acct)\n",
    "\n",
    "\n",
    "print(f\"The total amount in the checking account is: {check_acct.get_acct_amount():.2e}\")\n",
    "print(f\"The total amount in the savings account is: {savings_acct.get_acct_amount():.2e}\")\n"
   ]
  },
  {
   "cell_type": "markdown",
   "metadata": {},
   "source": [
    "&#9989; **Question 4.2 (10 points)**: In the following cell there is a draft of a bank class, you need to complete it. \n",
    "\n",
    "Do the following\n",
    "\n",
    "- complete the `create_account` method. The method creates a new `Account` object and stores it into the `_accounts` dictionary by using the account number as `key`. Use `np.random.randint(12151)` as the account number. The method takes in:\n",
    "    - `customer_name` a string that is used as the `key` of the `_customers` dictionary\n",
    "    - `acct_type` a string that is used to define the account type\n",
    "    - `initial_amount` a float \n",
    "    \n",
    "- complete the `deposit` method. The method takes in:\n",
    "    - `customer_name` a string that is used as the `key` of the `_customers` dictionary\n",
    "    - `account_number` a string that is used to define the account type\n",
    "    - `amount` a float.\n",
    "    \n",
    "    The method deposits `amount` into the customer's account. Remember the account number is the `key` for the `_accounts` dictionary.\n",
    "\n",
    "\n",
    "    "
   ]
  },
  {
   "cell_type": "code",
   "execution_count": null,
   "metadata": {
    "ExecuteTime": {
     "end_time": "2022-10-12T21:41:42.429409Z",
     "start_time": "2022-10-12T21:41:42.425937Z"
    },
    "code_folding": [
     57
    ]
   },
   "outputs": [],
   "source": [
    "class Bank:\n",
    "    \n",
    "    def __init__(self, name, routing_number):\n",
    "        self._name = name\n",
    "        self._routing_number = routing_number\n",
    "        self._ledger = []        # list of transaction \n",
    "        self._customers = dict() # Dictionary of objects\n",
    "        self._accounts = dict()  # Dictionary of objects\n",
    "    \n",
    "    def add_customer(self, customer):\n",
    "        \"\"\"Add the customer to the dictionary of customers.\n",
    "        Use the customer's name as the key of the dictionary.\n",
    "        \n",
    "        Parameters\n",
    "        ----------\n",
    "        customer: object\n",
    "            Customer to be added \n",
    "        \"\"\"\n",
    "        \n",
    "        self._customers[customer.name] = customer\n",
    "    \n",
    "    def create_account(self, customer_name, acc_type, initial_amount=0.0):\n",
    "        \"\"\"Create a new account and add it to the dictionary of accounts.\n",
    "        Use the account number as the key of the dictionary.\n",
    "        \n",
    "        Parameters\n",
    "        ----------\n",
    "        customer_name : string\n",
    "            Owner of the account. It is an instance of the Customer class\n",
    "        \n",
    "        acc_type : string\n",
    "            Type of account.\n",
    "        \n",
    "        initial_amount : float\n",
    "            Initial amount to deposit. Default is 0.0\n",
    "        \n",
    "        \"\"\"\n",
    "        # Put your code here\n",
    "        \n",
    "        self._ledger.append(f\"Account # {insert account number here} created by {customer_name} with ${initial_amount}\")\n",
    "\n",
    "        \n",
    "    def deposit(self, customer_name, account_number, amount):\n",
    "        \"\"\"Deposit money in the account and save the transaction into a ledger.\n",
    "        Use the account number as the key of the dictionary.\n",
    "        \n",
    "        Parameters\n",
    "        ----------\n",
    "        customer : object\n",
    "            Owner of the account. It is an instance of the Customer class\n",
    "        \n",
    "        account_number : string\n",
    "            Type of account.\n",
    "        \n",
    "        amount : float\n",
    "            amount to deposit.\n",
    "        \n",
    "        \"\"\"\n",
    "        # Put your code here\n",
    "        \n",
    "        self._ledger.append(f\"{customer_name} deposited ${amount} into acc # {account_number}\")\n",
    "\n",
    "    \n",
    "    "
   ]
  },
  {
   "cell_type": "markdown",
   "metadata": {},
   "source": [
    "## Test your code\n",
    "\n",
    "Let's check that the code works. Run the following cell and you should get the following output\n",
    "If it throws an error go back and fix the code or move on."
   ]
  },
  {
   "cell_type": "code",
   "execution_count": null,
   "metadata": {
    "ExecuteTime": {
     "end_time": "2022-10-13T05:31:26.848032Z",
     "start_time": "2022-10-13T05:31:26.845131Z"
    }
   },
   "outputs": [],
   "source": [
    "caveau = Bank(\"banca\", \"456 789\")\n",
    "caveau.add_customer(scrooge)\n",
    "caveau.create_account(scrooge.name, \"checking\", 2e6)\n",
    "caveau._ledger"
   ]
  },
  {
   "cell_type": "markdown",
   "metadata": {
    "ExecuteTime": {
     "end_time": "2022-10-13T04:47:40.616170Z",
     "start_time": "2022-10-13T04:47:40.613528Z"
    }
   },
   "source": [
    "&#9989; **Question 4.2.1 (4 points):** In the next cell use `caveau` to have Scrouge McDuck has to deposit $ 1000000 into the account whose number is given in the output of the cell above.\n",
    "Then print the `_ledger`"
   ]
  },
  {
   "cell_type": "code",
   "execution_count": null,
   "metadata": {
    "ExecuteTime": {
     "end_time": "2022-10-13T05:31:36.109382Z",
     "start_time": "2022-10-13T05:31:36.107696Z"
    }
   },
   "outputs": [],
   "source": [
    "# Put your code here"
   ]
  },
  {
   "cell_type": "markdown",
   "metadata": {
    "pycharm": {
     "name": "#%% md\n"
    }
   },
   "source": [
    "### &#128721; STOP\n",
    "**Pause to commit your changes to your local `git` repository! (1 point)**\n",
    "\n",
    "Take a moment to save your notebook, commit the changes to your local `git` repository using the commit message \"**Committing Part 4**\".\n",
    "\n",
    "---"
   ]
  },
  {
   "cell_type": "markdown",
   "metadata": {
    "pycharm": {
     "name": "#%% md\n"
    }
   },
   "source": [
    "---\n",
    "<a id=\"part5\"></a>\n",
    "[Back to ToC](#toc)\n",
    "\n",
    "# Part 5. Conclusion (3 points)\n",
    "\n",
    "Make sure all of your changes to your repository are committed and pushed to GitHub. \n",
    "Before you leave\n",
    "\n",
    "1. Have you added your name and github username at the top of this notebook? ? (1 point)\n",
    "\n",
    "2. Push the changes to your GitHub repository (1 point)\n",
    "\n",
    "3. Upload your notebook to D2L in case something went wrong with your repository or if you couldn't get the repository to work.  (1 point)"
   ]
  },
  {
   "cell_type": "markdown",
   "metadata": {
    "pycharm": {
     "name": "#%% md\n"
    }
   },
   "source": [
    "# You're done! Congrats on finishing your CMSE 202 Midterm!\n",
    "\n",
    "\n",
    "![Moira2](https://media.giphy.com/media/d1E2HnwywoTkES08/giphy.gif)"
   ]
  },
  {
   "cell_type": "code",
   "execution_count": null,
   "metadata": {
    "ExecuteTime": {
     "end_time": "2022-10-13T05:47:34.039516Z",
     "start_time": "2022-10-13T05:47:34.036835Z"
    },
    "pycharm": {
     "name": "#%%\n"
    }
   },
   "outputs": [],
   "source": [
    "# FINAL GRADE (Instructor's use only)\",\n",
    "parts = [part_0, part_1, part_2, part_3, part_4]\n",
    "print(f\"Part 0: {part_0}/{grades[0]}\")\n",
    "print(f\"Part 1: {part_1}/{grades[1]}\")\n",
    "print(f\"Part 2: {part_2}/{grades[2]}\")\n",
    "print(f\"Part 3: {part_3}/{grades[3]}\")\n",
    "print(f\"Part 4: {part_4}/{grades[4]}\")\n",
    "\n",
    "total = sum(parts)\n",
    "print(f\"Your final grade is {total}\")"
   ]
  },
  {
   "cell_type": "markdown",
   "metadata": {
    "pycharm": {
     "name": "#%% md\n"
    }
   },
   "source": [
    "&#169; Copyright 2022,  Department of Computational Mathematics, Science and Engineering at Michigan State University"
   ]
  }
 ],
 "metadata": {
  "kernelspec": {
   "display_name": "Python 3",
   "language": "python",
   "name": "python3"
  },
  "language_info": {
   "codemirror_mode": {
    "name": "ipython",
    "version": 3
   },
   "file_extension": ".py",
   "mimetype": "text/x-python",
   "name": "python",
   "nbconvert_exporter": "python",
   "pygments_lexer": "ipython3",
   "version": "3.8.8"
  },
  "latex_envs": {
   "LaTeX_envs_menu_present": true,
   "autoclose": false,
   "autocomplete": true,
   "bibliofile": "biblio.bib",
   "cite_by": "apalike",
   "current_citInitial": 1,
   "eqLabelWithNumbers": true,
   "eqNumInitial": 1,
   "hotkeys": {
    "equation": "Ctrl-E",
    "itemize": "Ctrl-I"
   },
   "labels_anchors": false,
   "latex_user_defs": false,
   "report_style_numbering": false,
   "user_envs_cfg": false
  },
  "widgets": {
   "application/vnd.jupyter.widget-state+json": {
    "state": {},
    "version_major": 2,
    "version_minor": 0
   }
  }
 },
 "nbformat": 4,
 "nbformat_minor": 4
}
