{
 "cells": [
  {
   "cell_type": "markdown",
   "id": "a6fc03da-0d19-4917-b456-4715305be431",
   "metadata": {
    "tags": []
   },
   "source": [
    "# Homework Assignment #2 (Individual)\n",
    "## Pandas Review and Python Classes"
   ]
  },
  {
   "cell_type": "markdown",
   "id": "551a7128-acad-4dd2-a55c-1ec6bcd11780",
   "metadata": {
    "tags": []
   },
   "source": [
    "### <p style=\"text-align: right;\"> &#9989; Richard Arbury</p>\n",
    "### <p style=\"text-align: right;\"> &#9989; arburyri</p>"
   ]
  },
  {
   "cell_type": "markdown",
   "id": "92a96ec6-b7d2-4db0-9320-32393f7a8c5a",
   "metadata": {
    "jp-MarkdownHeadingCollapsed": true,
    "tags": []
   },
   "source": [
    "### Goals for this homework assignment\n",
    "By the end of this assignment, you should be able to:\n",
    "- Write a generalizable class to store data\n",
    "- Write subclasses that inherit general variables and methods from a parent class\n",
    "- Identify key pieces of information that need to be stored as class variables\n",
    "- Write methods that fetch and modify class variables \n",
    "- Write a function that instantiates new objects given some initial set of parameters\n",
    "\n",
    "Work through the following assignment, making sure to follow all of the directions and answer all of the questions.\n",
    "\n",
    "There are **62 points** possible on this assignment. Point values for each part are included in the section headers and question prompts.\n",
    "\n",
    "**This assignment is due in roughly two weeks from now at 11:59 pm on Friday, October 7th.** It should be uploaded into the \"Homework Assignments\" submission folder for Homework #2.  Submission instructions can be found at the end of the notebook."
   ]
  },
  {
   "cell_type": "markdown",
   "id": "509920a9-f9f8-45cf-8bc9-c427386a6369",
   "metadata": {},
   "source": [
    "---\n",
    "## Part 0: Add to your Git repository to track your progress on your assignment (5 points)\n",
    "\n",
    "For this assignment, you're going to add it to the `cmse202-f22-turnin` repository you created in class so that you can track your progress on the assignment and preserve the final version that you turn in. In order to do this you need to\n",
    "\n",
    "**&#9989; Do the following**:\n",
    "\n",
    "1. Navigate to your `cmse202-f22-turnin` repository and create a new directory called `hw-02`.\n",
    "2. Move this notebook into that **new directory** in your repository, then **add it and commit it to your repository**.\n",
    "1. Finally, to test that everything is working, \"git push\" the file so that it ends up in your GitHub repository.\n",
    "\n",
    "**Important**: Double check you've added your Professor and your TA as collaborators to your \"turnin\" repository (you should have done this in the previous homework assignment).\n",
    "\n",
    "**Also important**: Make sure that the version of this notebook that you are working on is the same one that you just added to your repository! If you are working on a different copy of the notebook, **none of your changes will be tracked**!\n",
    "\n",
    "If everything went as intended, the file should now show up on your GitHub account in the \"`cmse202-f22-turnin`\" repository inside the `hw-02` directory that you just created.  Periodically, **you'll be asked to commit your changes to the repository and push them to the remote GitHub location**. Of course, you can always commit your changes more often than that, if you wish.  It can be good to get into a habit of committing your changes any time you make a significant modification, or when you stop working on the project for a bit.\n",
    "\n",
    "&#9989; **Do this**: Before you move on, put the command that your instructor should run to clone your repository in the markdown cell below."
   ]
  },
  {
   "cell_type": "markdown",
   "id": "0f416d6c",
   "metadata": {},
   "source": [
    "!git clone https://github.com/arburyri/cmse202-f22-turnin.git"
   ]
  },
  {
   "cell_type": "markdown",
   "id": "b2153390-6686-464b-83e4-6c97d4115138",
   "metadata": {},
   "source": []
  },
  {
   "cell_type": "markdown",
   "id": "472e909c-763c-4019-bf12-2b7c23a6abf1",
   "metadata": {
    "tags": []
   },
   "source": [
    "# Using Classes to Store Data\n",
    "\n",
    "\n",
    "One of the primary ways that classes are used is to organize datasets in a way that is both easy to manipulate and key pieces of information are easily accessible. \n",
    "\n",
    "For this homework assignment, you will be: \n",
    "1. **Creating your own class to encapsulate a dataset**\n",
    "2. **Using that class to create sub-classes**\n",
    "2. **Applying your class(es) to a real data set by creating object instances**\n",
    "2. **Using your objects to answer a (relatively) simple question of the dataset.**\n",
    "\n",
    "One of the great benefits of classes is their flexibility; they can be applied to anything. For this assignment, you can do these tasks with any dataset. The tasks listed above have been designed to work with (virtually) any dataset. For folks that have recently taken 201 and used a dataset for their final project, you may want to consider using it for this assignment. \n",
    "\n",
    "\n",
    "The following set of tasks are specifically geared towards the following dataset: \n",
    "\n",
    "`https://raw.githubusercontent.com/msu-cmse-courses/cmse202-F22-data/main/HW/Homework_2/netflix_titles.csv`\n",
    "\n",
    "which [comes from here](https://www.kaggle.com/datasets/shivamb/netflix-shows).\n",
    "\n",
    "You may complete the following specific tasks for the Netflix dataset, or you may use a different dataset and complete your own version of these tasks for your chosen dataset."
   ]
  },
  {
   "cell_type": "markdown",
   "id": "6ab70fb1-2e61-4339-bdc5-9a0c44113324",
   "metadata": {},
   "source": [
    "## Part 1: Examine your Dataset\n",
    "\n",
    "#### 1.1 Describing your Dataset (2 Points)\n",
    "&#9989; Use Pandas to read in your dataset. Describe the conetents of this dataset (E.g., the column names, what they represent, etc.)\n",
    "\n"
   ]
  },
  {
   "cell_type": "code",
   "execution_count": 24,
   "id": "b3117200-8b2c-4174-9189-06f9c29cea68",
   "metadata": {},
   "outputs": [
    {
     "name": "stdout",
     "output_type": "stream",
     "text": [
      "  show_id     type                  title         director  \\\n",
      "0      s1    Movie   Dick Johnson Is Dead  Kirsten Johnson   \n",
      "1      s2  TV Show          Blood & Water              NaN   \n",
      "2      s3  TV Show              Ganglands  Julien Leclercq   \n",
      "3      s4  TV Show  Jailbirds New Orleans              NaN   \n",
      "4      s5  TV Show           Kota Factory              NaN   \n",
      "\n",
      "                                                cast        country  \\\n",
      "0                                                NaN  United States   \n",
      "1  Ama Qamata, Khosi Ngema, Gail Mabalane, Thaban...   South Africa   \n",
      "2  Sami Bouajila, Tracy Gotoas, Samuel Jouy, Nabi...            NaN   \n",
      "3                                                NaN            NaN   \n",
      "4  Mayur More, Jitendra Kumar, Ranjan Raj, Alam K...          India   \n",
      "\n",
      "           date_added  release_year rating   duration  \\\n",
      "0  September 25, 2021          2020  PG-13     90 min   \n",
      "1  September 24, 2021          2021  TV-MA  2 Seasons   \n",
      "2  September 24, 2021          2021  TV-MA   1 Season   \n",
      "3  September 24, 2021          2021  TV-MA   1 Season   \n",
      "4  September 24, 2021          2021  TV-MA  2 Seasons   \n",
      "\n",
      "                                           listed_in  \\\n",
      "0                                      Documentaries   \n",
      "1    International TV Shows, TV Dramas, TV Mysteries   \n",
      "2  Crime TV Shows, International TV Shows, TV Act...   \n",
      "3                             Docuseries, Reality TV   \n",
      "4  International TV Shows, Romantic TV Shows, TV ...   \n",
      "\n",
      "                                         description  \n",
      "0  As her father nears the end of his life, filmm...  \n",
      "1  After crossing paths at a party, a Cape Town t...  \n",
      "2  To protect his family from a powerful drug lor...  \n",
      "3  Feuds, flirtations and toilet talk go down amo...  \n",
      "4  In a city of coaching centers known to train I...  \n"
     ]
    }
   ],
   "source": [
    "import pandas as pd\n",
    "\n",
    "filepath = r\"netflix_titles.csv\"\n",
    "   \n",
    "# read the CSV file\n",
    "df = pd.read_csv(filepath)\n",
    "   \n",
    "# print the first five rows\n",
    "print(df.head())\n"
   ]
  },
  {
   "cell_type": "markdown",
   "id": "7589ad90-4098-4e6f-9b74-bd8ac46c9031",
   "metadata": {},
   "source": [
    "The data shows the entertainments type, id, title, director, country of production, date added, release year, rating, and duration"
   ]
  },
  {
   "cell_type": "markdown",
   "id": "51aa0418-9da6-445b-bc97-1e3e19365ce6",
   "metadata": {
    "tags": []
   },
   "source": [
    "#### 1.2 Dropping Data Columns (2 Points)\n",
    "&#9989; We won't be using the first and last columns of this dataframe, so drop them."
   ]
  },
  {
   "cell_type": "code",
   "execution_count": 28,
   "id": "0dca0060-6925-409e-948f-619544bd7b27",
   "metadata": {},
   "outputs": [
    {
     "name": "stdout",
     "output_type": "stream",
     "text": [
      "      type                  title         director  \\\n",
      "0    Movie   Dick Johnson Is Dead  Kirsten Johnson   \n",
      "1  TV Show          Blood & Water              NaN   \n",
      "2  TV Show              Ganglands  Julien Leclercq   \n",
      "3  TV Show  Jailbirds New Orleans              NaN   \n",
      "4  TV Show           Kota Factory              NaN   \n",
      "\n",
      "                                                cast        country  \\\n",
      "0                                                NaN  United States   \n",
      "1  Ama Qamata, Khosi Ngema, Gail Mabalane, Thaban...   South Africa   \n",
      "2  Sami Bouajila, Tracy Gotoas, Samuel Jouy, Nabi...            NaN   \n",
      "3                                                NaN            NaN   \n",
      "4  Mayur More, Jitendra Kumar, Ranjan Raj, Alam K...          India   \n",
      "\n",
      "           date_added  release_year rating   duration  \\\n",
      "0  September 25, 2021          2020  PG-13     90 min   \n",
      "1  September 24, 2021          2021  TV-MA  2 Seasons   \n",
      "2  September 24, 2021          2021  TV-MA   1 Season   \n",
      "3  September 24, 2021          2021  TV-MA   1 Season   \n",
      "4  September 24, 2021          2021  TV-MA  2 Seasons   \n",
      "\n",
      "                                           listed_in  \n",
      "0                                      Documentaries  \n",
      "1    International TV Shows, TV Dramas, TV Mysteries  \n",
      "2  Crime TV Shows, International TV Shows, TV Act...  \n",
      "3                             Docuseries, Reality TV  \n",
      "4  International TV Shows, Romantic TV Shows, TV ...  \n"
     ]
    }
   ],
   "source": [
    "df.pop(df.columns.values[0])\n",
    "df.pop(df.columns.values[-1])\n",
    "print(df.head())"
   ]
  },
  {
   "cell_type": "markdown",
   "id": "5f88cf42-0893-4eee-a059-3c15588dd376",
   "metadata": {},
   "source": [
    "#### 1.3 Thinking about Organizing Data (2 Points)\n",
    "\n",
    "&#9989; In order to organize things it is useful to classify them into categories. Imagine that each line of the dataset is an instance of an object(s). How would you organize this dataset using object oriented programming? What would the parent class and its child classes be? Think of the Zoo and Animal classes "
   ]
  },
  {
   "cell_type": "markdown",
   "id": "44de8ab0-09f2-4b61-bf92-a032d33705b7",
   "metadata": {},
   "source": [
    "We could go off televison for a parent class, then movie or show. From here we could add the details like country, release year, etc."
   ]
  },
  {
   "cell_type": "markdown",
   "id": "34a25f74-124f-4d6b-9998-99a66532d380",
   "metadata": {},
   "source": [
    "## Part 2: Creating your (Parent) Class \n",
    "\n",
    "#### 2.1: Creating the Class (9 Points)\n",
    "\n",
    "&#9989; Create a class called `Production`. The Class should have the attributes `title`, `release_year`, and `genre`. The class should also have `get` and `set` methods for each of the three attributes."
   ]
  },
  {
   "cell_type": "code",
   "execution_count": 28,
   "id": "a2fd9251-92e6-4746-9d3f-0f4573e5ee72",
   "metadata": {},
   "outputs": [],
   "source": [
    "class Production:\n",
    "    \n",
    "\n",
    "    \n",
    "    def __init__(self, title):\n",
    "        self.title=title\n",
    "        self.release_year=\"\"\n",
    "        self.genre=\"\"\n",
    "        self.kind=kind\n",
    "        \n",
    "    \n",
    "    def add(self,media):\n",
    "        self.add_media(media)\n",
    "        \n",
    "    def set_title(self,title):\n",
    "        self.title=title\n",
    "    \n",
    "    def set_genre(self,genre):\n",
    "        self.genre=genre\n",
    "        \n",
    "    def get_genre(self):\n",
    "        return self.genre\n",
    "    \n",
    "        \n",
    "        \n",
    "    def get_title(self):\n",
    "        return self.medias\n",
    "    \n",
    "    def set_release_year(self,release_year):\n",
    "        self.release_year=release_year\n",
    "        \n",
    "    def get_release_year(self):\n",
    "        return self.release_year\n",
    "    \n",
    "    def info(self):\n",
    "        print(self.title,self.genre,self.release_year)"
   ]
  },
  {
   "cell_type": "markdown",
   "id": "9d567b90-d381-4cd8-b333-3f30c80b250e",
   "metadata": {},
   "source": [
    "#### 2.2: Testing the Class (2 Points)\n",
    "\n",
    "&#9989; Select a random entry in the dataset and turn it into a `Production` class object. Print out the title and release year to make sure it is working correctly."
   ]
  },
  {
   "cell_type": "code",
   "execution_count": 29,
   "id": "5654bf88-25a1-4163-9fc9-82b6d94d8cf7",
   "metadata": {},
   "outputs": [
    {
     "name": "stdout",
     "output_type": "stream",
     "text": [
      "     show_id    type1   title      director  \\\n",
      "2846   s2847  TV Show  Velvet  Carlos Sedes   \n",
      "\n",
      "                                                   cast country date_added  \\\n",
      "2846  Paula Echevarría, Miguel Ángel Silvestre, Aita...   Spain   4-Mar-20   \n",
      "\n",
      "      release_year rating   duration  \\\n",
      "2846          2016  TV-14  4 Seasons   \n",
      "\n",
      "                                              listed_in  \\\n",
      "2846  International TV Shows, Romantic TV Shows, Spa...   \n",
      "\n",
      "                                            description  \n",
      "2846  In 1950s Spain, the heir to a fashion house ro...  \n",
      "sex_and_the_city2 Comedies, Drama, dumb 2010\n",
      "None\n"
     ]
    }
   ],
   "source": [
    "sample=df.sample()\n",
    "print(sample)\n",
    "\n",
    "sex_and_the_city2=Production('sex_and_the_city2')\n",
    "sex_and_the_city2.set_title('sex_and_the_city2')\n",
    "sex_and_the_city2.set_release_year('2010')\n",
    "sex_and_the_city2.set_genre('Comedies, Drama, dumb')\n",
    "test1=sex_and_the_city2.info()\n",
    "print(test1)"
   ]
  },
  {
   "cell_type": "markdown",
   "id": "b15dc8e5-c0e8-4621-a423-182452aac311",
   "metadata": {
    "tags": []
   },
   "source": [
    "---\n",
    "### &#128721; STOP (1 Point)\n",
    "**Pause to commit your changes to your Git repository!**\n",
    "\n",
    "Take a moment to save your notebook, commit the changes to your Git repository. Merge the changes in the main branch, and push the changes to GitHub.\n",
    "\n",
    "---"
   ]
  },
  {
   "cell_type": "markdown",
   "id": "c864abb1-1a1e-4c20-a60a-fa715066f905",
   "metadata": {
    "tags": []
   },
   "source": [
    "## Part 3: Creating your (Child) Classes\n",
    "\n",
    "#### 3.1 Making the Child Classes (12 Points)\n",
    "\n",
    "&#9989; Create child classes `Movie` and `TV_Show`. The `Movie` child class should have the added attribute `director` and the `TV_Show` subclass should have the attribute `seasons`. Make sure that each of the child classes has an `__init__` function that takes all of the necessary information to create an instance of that class. \n",
    "\n",
    "**Note:** Your child classes should use the `super()` function."
   ]
  },
  {
   "cell_type": "code",
   "execution_count": 84,
   "id": "14f0a54c-9892-4e14-a102-21dd1c9d7f6a",
   "metadata": {},
   "outputs": [],
   "source": [
    "class Movie(Production):\n",
    "    def __init__(self,title):\n",
    "        kind = 'movie'\n",
    "        self.director=''\n",
    "        self.title=title\n",
    "        super().__init__(kind)\n",
    "    def set_director(self,director):\n",
    "        self.director= director\n",
    "    def get_director(self):\n",
    "        return self.director\n",
    "    def get_info2(self):\n",
    "        print(self.title,self.genre,self.release_year,self.director)\n",
    "    \n",
    "class TV_Show(Production):\n",
    "    def __init__(self,title):\n",
    "        kind = 'TV Show'\n",
    "        self.seasons=''\n",
    "        self.title=title\n",
    "        super().__init__(kind)\n",
    "        \n",
    "    def set_seasons(self,seasons):\n",
    "        self.seasons= seasons\n",
    "    def get_seasons(self):\n",
    "        return self.seasons\n",
    "    def get_info2(self):\n",
    "        print(self.title,self.genre,self.release_year, self.seasons)\n",
    "        \n",
    "        \n",
    "            \n",
    "        "
   ]
  },
  {
   "cell_type": "markdown",
   "id": "54465525-b7ec-4441-ad88-dce654856df7",
   "metadata": {},
   "source": [
    "#### 3.2: Testing Child Classes (4 points)\n",
    "\n",
    "&#9989;  Create an instance of both of your objects to ensure that they're working. Use any entry you like to create your objects. Print the director for the `Movie` and the number of seasons for the `TV_Show`."
   ]
  },
  {
   "cell_type": "code",
   "execution_count": 85,
   "id": "59229981-55dd-464a-a4dc-dc9a6b5dbcd7",
   "metadata": {},
   "outputs": [
    {
     "name": "stdout",
     "output_type": "stream",
     "text": [
      "movie   Michael King\n",
      "TV Show   12\n"
     ]
    }
   ],
   "source": [
    "Border_patrol=TV_Show('Border Patrol')\n",
    "Border_patrol.set_seasons('12')\n",
    "sex_and_the_city2=Movie('Sex and the City 2')\n",
    "sex_and_the_city2.set_director('Michael King')\n",
    "\n",
    "sex_and_the_city2.get_info2()\n",
    "Border_patrol.get_info2()"
   ]
  },
  {
   "cell_type": "markdown",
   "id": "e6813740-6e11-483c-b09f-d26acc218d5c",
   "metadata": {},
   "source": [
    "## Part 4: Creating your Objects\n",
    "\n",
    "#### 4.1: Make all of the Objects! (6 Points)\n",
    "\n",
    "&#9989; Write a piece of code that uses your dataset to build a list of `Movie` and a list of `TV_Show` objects."
   ]
  },
  {
   "cell_type": "code",
   "execution_count": null,
   "id": "94c9d4c7-ab8a-4687-9fa2-82181ac81590",
   "metadata": {},
   "outputs": [],
   "source": [
    "#Write your code here"
   ]
  },
  {
   "cell_type": "markdown",
   "id": "4bbe677e-a049-4d93-b233-67a1c6083521",
   "metadata": {
    "tags": []
   },
   "source": [
    "#### 4.2: Make sure the `Movie`s and `TV_Show`s work! (2 Points)\n",
    "\n",
    "&#9989; To test whether you succesfully created the `Movie` and `TV_Show` objects, print out the titles and genres for the first handful (5-10) of `TV_Show` objects."
   ]
  },
  {
   "cell_type": "code",
   "execution_count": null,
   "id": "e0501942-a13b-4167-9cd7-cfe4ef963662",
   "metadata": {},
   "outputs": [],
   "source": [
    "#Write your code here"
   ]
  },
  {
   "cell_type": "markdown",
   "id": "284d1f4a-269c-4ee9-9d79-1b48cdf3b6d6",
   "metadata": {},
   "source": [
    "---\n",
    "### &#128721; STOP (1 Point)\n",
    "**Pause to commit your changes to your Git repository!**\n",
    "\n",
    "Take a moment to save your notebook, commit the changes to your Git repository. Merge the changes in the main branch, and push the changes to GitHub.\n",
    "\n",
    "---"
   ]
  },
  {
   "cell_type": "markdown",
   "id": "d855eff5-acd9-463f-bb50-56a716f90a56",
   "metadata": {
    "tags": []
   },
   "source": [
    "## Part 5: Answering your Question\n",
    "\n",
    "\n",
    "We’re going to answer the question **“How has the number of Drama TV Shows changed over time?”**\n",
    "\n",
    "To answer this question, we’ll need to look at the `release_year` and `genre` variables for each of our `TV_Show` objects. **But** we have a small problem. \n",
    "\n",
    "#### 5.1 Identifying the Issue (1 Point)\n",
    "&#9989; To see what that is, **print out the `genre` of a random `TV_Show` object.**"
   ]
  },
  {
   "cell_type": "code",
   "execution_count": null,
   "id": "2e97eaae-81b4-49c4-8544-bcf7b07b3e64",
   "metadata": {},
   "outputs": [],
   "source": [
    "#Write your code here"
   ]
  },
  {
   "cell_type": "markdown",
   "id": "ce2c6015-5c0f-4a66-982e-852995b42cbf",
   "metadata": {},
   "source": [
    "We need to be able to group the TV shows based on their genre, but TV shows have multiple genres! We need to be able to break apart these genres. \n",
    "\n",
    "\n",
    "#### 5.2: Fixing the Issue (2 Points)\n",
    "&#9989; Write a piece of code that will split apart the `genre` string into a `list` of genres. Make sure your code is working by testing it on the list of genres from the previous problem. *Note: This will involve tools we haven’t talked about in class. Use Google to help you solve this problem!*"
   ]
  },
  {
   "cell_type": "code",
   "execution_count": null,
   "id": "1c0805a7-e8d9-4a9a-a40b-0acce0384b14",
   "metadata": {},
   "outputs": [],
   "source": [
    "#Write your code here"
   ]
  },
  {
   "cell_type": "markdown",
   "id": "9e1a6035-96f6-4b71-abeb-0cbf88edf2b9",
   "metadata": {},
   "source": [
    "#### 5.3: Applying the Fix to our Class (3 Points)\n",
    "&#9989;  Take the code that you wrote in the previous problem and turn it into a method for the `Production` class. Run this method within the `__init__` method so that every `Production` object comes into being with the genres split apart into a list."
   ]
  },
  {
   "cell_type": "code",
   "execution_count": null,
   "id": "085971b9-c7d9-43f8-940b-0c7e702ff37e",
   "metadata": {},
   "outputs": [],
   "source": [
    "#Write your code here"
   ]
  },
  {
   "cell_type": "markdown",
   "id": "a4800d85-c1a0-4def-b62f-0a07ad60ca5f",
   "metadata": {},
   "source": [
    "#### 5.4: Rebuilding (1 Point)\n",
    "\n",
    "&#9989; Rebuild your `Movie` and `TV_Show` objects with this new addition to the `Production` class. NOTE: you will need to rerun your code from Part 3 for this to work."
   ]
  },
  {
   "cell_type": "code",
   "execution_count": null,
   "id": "eaa196f7-79ab-4804-9e63-67eb4f1d9df6",
   "metadata": {},
   "outputs": [],
   "source": [
    "#Write your code here"
   ]
  },
  {
   "cell_type": "markdown",
   "id": "c1ba3538-da93-4eeb-af25-e22104c74fc5",
   "metadata": {},
   "source": [
    "#### 5.5: Am I the Drama...? (1 Point)\n",
    "\n",
    "&#9989; Select all of the `TV_Show` objects that have drama as one of their genres."
   ]
  },
  {
   "cell_type": "code",
   "execution_count": null,
   "id": "9c33d12b-e30c-4f0a-9e5b-2b3e78bc902f",
   "metadata": {},
   "outputs": [],
   "source": [
    "#Write your code here"
   ]
  },
  {
   "cell_type": "markdown",
   "id": "1319c924-ee1c-474e-b3bb-609796bc8283",
   "metadata": {},
   "source": [
    "#### 5.6: Release Years (1 Point)\n",
    "\n",
    "&#9989; Use your list of `TV_Show` objects to create a list of all of the release years that Drama TV shows came out."
   ]
  },
  {
   "cell_type": "code",
   "execution_count": null,
   "id": "b0427fff-9552-4a33-93b4-3fde834c51d4",
   "metadata": {},
   "outputs": [],
   "source": [
    "#Write your code here"
   ]
  },
  {
   "cell_type": "markdown",
   "id": "a147e4d9-943a-4d4d-acbd-369990d209f4",
   "metadata": {},
   "source": [
    "#### 5.7: Counting the Years (2 Points)\n",
    "\n",
    "&#9989; Make two lists, one with release years and the other with the number of drama TV shows released during that year. [This page from Stack Overflow](https://stackoverflow.com/questions/2161752/how-to-count-the-frequency-of-the-elements-in-an-unordered-list) may be useful.\n"
   ]
  },
  {
   "cell_type": "code",
   "execution_count": null,
   "id": "5fe23f4a-8b9c-467b-9c87-d4338eb7aecd",
   "metadata": {},
   "outputs": [],
   "source": [
    "#Write your code here"
   ]
  },
  {
   "cell_type": "markdown",
   "id": "bcfe1f7f-87b0-4767-b5e6-66f5d7c9d5ca",
   "metadata": {},
   "source": [
    "#### 5.8: It isn't Real Unitl you Make a Plot (2 Points)\n",
    "\n",
    "&#9989; Make a plot showing the number of dramas versus release year."
   ]
  },
  {
   "cell_type": "code",
   "execution_count": null,
   "id": "817fe416-3afd-4f90-afba-ea8fc455a014",
   "metadata": {},
   "outputs": [],
   "source": [
    "#Write your code here"
   ]
  },
  {
   "cell_type": "markdown",
   "id": "d6387b58-f6db-4c19-8f53-00515dee82aa",
   "metadata": {},
   "source": [
    "---\n",
    "### &#128721; STOP (1 Point)\n",
    "**Pause to commit your changes to your Git repository!**\n",
    "\n",
    "Take a moment to save your notebook, commit the changes to your Git repository. Merge the changes in the main branch, and push the changes to GitHub.\n",
    "\n",
    "---"
   ]
  },
  {
   "cell_type": "markdown",
   "id": "8f271f51-e4d3-4481-916a-3965d9c96f33",
   "metadata": {
    "tags": []
   },
   "source": [
    "### Congratulations, you're done!"
   ]
  },
  {
   "cell_type": "markdown",
   "id": "b2f3c3d8-8f71-4b0e-9d7c-d52e66bf24cc",
   "metadata": {},
   "source": [
    "&#169; Copyright 2021,  Department of Computational Mathematics, Science and Engineering at Michigan State University"
   ]
  }
 ],
 "metadata": {
  "kernelspec": {
   "display_name": "Python 3",
   "language": "python",
   "name": "python3"
  },
  "language_info": {
   "codemirror_mode": {
    "name": "ipython",
    "version": 3
   },
   "file_extension": ".py",
   "mimetype": "text/x-python",
   "name": "python",
   "nbconvert_exporter": "python",
   "pygments_lexer": "ipython3",
   "version": "3.8.8"
  }
 },
 "nbformat": 4,
 "nbformat_minor": 5
}
